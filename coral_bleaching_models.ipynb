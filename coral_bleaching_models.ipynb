{
  "nbformat": 4,
  "nbformat_minor": 0,
  "metadata": {
    "colab": {
      "provenance": [],
      "toc_visible": true,
      "machine_shape": "hm",
      "gpuType": "L4"
    },
    "kernelspec": {
      "name": "python3",
      "display_name": "Python 3"
    },
    "language_info": {
      "name": "python"
    },
    "accelerator": "GPU"
  },
  "cells": [
    {
      "cell_type": "code",
      "source": [
        "import pandas as pd\n",
        "import numpy as np\n",
        "import matplotlib.pyplot as plt\n"
      ],
      "metadata": {
        "id": "H4-G6pDDD5xn"
      },
      "execution_count": null,
      "outputs": []
    },
    {
      "cell_type": "markdown",
      "source": [
        "# Load in Data Set (Coral 10 colors)"
      ],
      "metadata": {
        "id": "TSS-rz4mCog1"
      }
    },
    {
      "cell_type": "code",
      "source": [
        "import pandas as pd\n",
        "\n",
        "def hex_to_rgb(hex_color):\n",
        "    \"\"\"\n",
        "    Convert a hexadecimal color code to its RGB representation.\n",
        "\n",
        "    Args:\n",
        "        hex_color (str): A string representing a hexadecimal color code,\n",
        "                         e.g., '#ffcc00' or 'ffcc00'.\n",
        "\n",
        "    Returns:\n",
        "        list: A list of three integers corresponding to the RGB values,\n",
        "              e.g., [255, 204, 0] for '#ffcc00'.\n",
        "    \"\"\"\n",
        "    hex_color = hex_color.lstrip('#')  # Remove the '#' if present\n",
        "    return [int(hex_color[i:i+2], 16) for i in (0, 2, 4)]  # Convert hex pairs to RGB values\n",
        "\n",
        "\n",
        "def convert_colors_to_rgb(data):\n",
        "    \"\"\"\n",
        "    Convert hex color columns in a DataFrame to separate RGB columns.\n",
        "\n",
        "    This function assumes the presence of columns named 'color1' to 'color5',\n",
        "    each containing a hexadecimal color code. It converts each hex color to its\n",
        "    RGB representation and adds three new columns for each color:\n",
        "    'color{i}_R', 'color{i}_G', and 'color{i}_B'.\n",
        "\n",
        "    Args:\n",
        "        data (pd.DataFrame): A pandas DataFrame with columns named 'color1' through 'color5',\n",
        "                             each containing a hex color string (e.g., '#ffcc00').\n",
        "\n",
        "    Returns:\n",
        "        pd.DataFrame: The original DataFrame augmented with 15 new columns for RGB components.\n",
        "    \"\"\"\n",
        "    for i in range(1, 6):  # Loop through color1 to color5\n",
        "        color_column = f'color{i}'\n",
        "        data[[f'color{i}_R', f'color{i}_G', f'color{i}_B']] = data[color_column].apply(\n",
        "            lambda x: pd.Series(hex_to_rgb(x))\n",
        "        )\n",
        "    return data\n",
        "\n",
        "\n",
        "# `coral_data10` is your loaded DataFrame\n",
        "coral_data = pd.read_csv('coral_colors10.csv')\n",
        "\n",
        "# Convert color columns to RGB\n",
        "coral_data = convert_colors_to_rgb(coral_data)\n",
        "\n",
        "# Drop the original hex color columns\n",
        "coral_data = coral_data.drop(columns=[f'color{i}' for i in range(1, 11)])\n",
        "\n",
        "# Undersample the majority class (CORAL) to match CORAL_BL\n",
        "coral = coral_data[coral_data['label'] == 'CORAL']\n",
        "coral_bl = coral_data[coral_data['label'] == 'CORAL_BL']\n",
        "\n",
        "coral_sampled = coral.sample(n=len(coral_bl), random_state=42)\n",
        "balanced_data = pd.concat([coral_sampled, coral_bl])\n",
        "\n",
        "# Shuffle the balanced dataset\n",
        "balanced_data = balanced_data.sample(frac=1, random_state=42).reset_index(drop=True)\n",
        "\n",
        "# Check the result\n",
        "balanced_data.head()\n",
        "\n"
      ],
      "metadata": {
        "colab": {
          "base_uri": "https://localhost:8080/",
          "height": 256
        },
        "id": "8GlqWOWNCnX9",
        "outputId": "19b27967-fa38-496d-beae-dd75d9541481"
      },
      "execution_count": null,
      "outputs": [
        {
          "output_type": "execute_result",
          "data": {
            "text/plain": [
              "      label  frequency1  frequency2  frequency3  frequency4  frequency5  \\\n",
              "0     CORAL      0.4008      0.1609      0.1363      0.1005      0.0857   \n",
              "1     CORAL      0.1858      0.1405      0.1102      0.1100      0.1091   \n",
              "2     CORAL      0.1664      0.1387      0.1365      0.1330      0.1225   \n",
              "3  CORAL_BL      0.1971      0.1855      0.1753      0.1267      0.0921   \n",
              "4  CORAL_BL      0.1377      0.1179      0.1157      0.1129      0.1004   \n",
              "\n",
              "   frequency6  frequency7  frequency8  frequency9  ...  color7_B  color8_R  \\\n",
              "0      0.0508      0.0267      0.0230      0.0077  ...        47        83   \n",
              "1      0.1047      0.0887      0.0738      0.0571  ...        61       105   \n",
              "2      0.1037      0.0784      0.0654      0.0331  ...        98        59   \n",
              "3      0.0884      0.0807      0.0288      0.0161  ...       135       132   \n",
              "4      0.0989      0.0971      0.0943      0.0873  ...        99       151   \n",
              "\n",
              "   color8_G  color8_B  color9_R  color9_G  color9_B  color10_R  color10_G  \\\n",
              "0        74        64       102        94        85        120        119   \n",
              "1       115        68       117       127        77        130        146   \n",
              "2        83        51       115       171       112         43         64   \n",
              "3       115        71       102        85        55         66         55   \n",
              "4       178       173        86        93        87         72         76   \n",
              "\n",
              "   color10_B  \n",
              "0        108  \n",
              "1         94  \n",
              "2         42  \n",
              "3         39  \n",
              "4         71  \n",
              "\n",
              "[5 rows x 41 columns]"
            ],
            "text/html": [
              "\n",
              "  <div id=\"df-1438b9f1-9266-45d9-a8f2-76cb78418606\" class=\"colab-df-container\">\n",
              "    <div>\n",
              "<style scoped>\n",
              "    .dataframe tbody tr th:only-of-type {\n",
              "        vertical-align: middle;\n",
              "    }\n",
              "\n",
              "    .dataframe tbody tr th {\n",
              "        vertical-align: top;\n",
              "    }\n",
              "\n",
              "    .dataframe thead th {\n",
              "        text-align: right;\n",
              "    }\n",
              "</style>\n",
              "<table border=\"1\" class=\"dataframe\">\n",
              "  <thead>\n",
              "    <tr style=\"text-align: right;\">\n",
              "      <th></th>\n",
              "      <th>label</th>\n",
              "      <th>frequency1</th>\n",
              "      <th>frequency2</th>\n",
              "      <th>frequency3</th>\n",
              "      <th>frequency4</th>\n",
              "      <th>frequency5</th>\n",
              "      <th>frequency6</th>\n",
              "      <th>frequency7</th>\n",
              "      <th>frequency8</th>\n",
              "      <th>frequency9</th>\n",
              "      <th>...</th>\n",
              "      <th>color7_B</th>\n",
              "      <th>color8_R</th>\n",
              "      <th>color8_G</th>\n",
              "      <th>color8_B</th>\n",
              "      <th>color9_R</th>\n",
              "      <th>color9_G</th>\n",
              "      <th>color9_B</th>\n",
              "      <th>color10_R</th>\n",
              "      <th>color10_G</th>\n",
              "      <th>color10_B</th>\n",
              "    </tr>\n",
              "  </thead>\n",
              "  <tbody>\n",
              "    <tr>\n",
              "      <th>0</th>\n",
              "      <td>CORAL</td>\n",
              "      <td>0.4008</td>\n",
              "      <td>0.1609</td>\n",
              "      <td>0.1363</td>\n",
              "      <td>0.1005</td>\n",
              "      <td>0.0857</td>\n",
              "      <td>0.0508</td>\n",
              "      <td>0.0267</td>\n",
              "      <td>0.0230</td>\n",
              "      <td>0.0077</td>\n",
              "      <td>...</td>\n",
              "      <td>47</td>\n",
              "      <td>83</td>\n",
              "      <td>74</td>\n",
              "      <td>64</td>\n",
              "      <td>102</td>\n",
              "      <td>94</td>\n",
              "      <td>85</td>\n",
              "      <td>120</td>\n",
              "      <td>119</td>\n",
              "      <td>108</td>\n",
              "    </tr>\n",
              "    <tr>\n",
              "      <th>1</th>\n",
              "      <td>CORAL</td>\n",
              "      <td>0.1858</td>\n",
              "      <td>0.1405</td>\n",
              "      <td>0.1102</td>\n",
              "      <td>0.1100</td>\n",
              "      <td>0.1091</td>\n",
              "      <td>0.1047</td>\n",
              "      <td>0.0887</td>\n",
              "      <td>0.0738</td>\n",
              "      <td>0.0571</td>\n",
              "      <td>...</td>\n",
              "      <td>61</td>\n",
              "      <td>105</td>\n",
              "      <td>115</td>\n",
              "      <td>68</td>\n",
              "      <td>117</td>\n",
              "      <td>127</td>\n",
              "      <td>77</td>\n",
              "      <td>130</td>\n",
              "      <td>146</td>\n",
              "      <td>94</td>\n",
              "    </tr>\n",
              "    <tr>\n",
              "      <th>2</th>\n",
              "      <td>CORAL</td>\n",
              "      <td>0.1664</td>\n",
              "      <td>0.1387</td>\n",
              "      <td>0.1365</td>\n",
              "      <td>0.1330</td>\n",
              "      <td>0.1225</td>\n",
              "      <td>0.1037</td>\n",
              "      <td>0.0784</td>\n",
              "      <td>0.0654</td>\n",
              "      <td>0.0331</td>\n",
              "      <td>...</td>\n",
              "      <td>98</td>\n",
              "      <td>59</td>\n",
              "      <td>83</td>\n",
              "      <td>51</td>\n",
              "      <td>115</td>\n",
              "      <td>171</td>\n",
              "      <td>112</td>\n",
              "      <td>43</td>\n",
              "      <td>64</td>\n",
              "      <td>42</td>\n",
              "    </tr>\n",
              "    <tr>\n",
              "      <th>3</th>\n",
              "      <td>CORAL_BL</td>\n",
              "      <td>0.1971</td>\n",
              "      <td>0.1855</td>\n",
              "      <td>0.1753</td>\n",
              "      <td>0.1267</td>\n",
              "      <td>0.0921</td>\n",
              "      <td>0.0884</td>\n",
              "      <td>0.0807</td>\n",
              "      <td>0.0288</td>\n",
              "      <td>0.0161</td>\n",
              "      <td>...</td>\n",
              "      <td>135</td>\n",
              "      <td>132</td>\n",
              "      <td>115</td>\n",
              "      <td>71</td>\n",
              "      <td>102</td>\n",
              "      <td>85</td>\n",
              "      <td>55</td>\n",
              "      <td>66</td>\n",
              "      <td>55</td>\n",
              "      <td>39</td>\n",
              "    </tr>\n",
              "    <tr>\n",
              "      <th>4</th>\n",
              "      <td>CORAL_BL</td>\n",
              "      <td>0.1377</td>\n",
              "      <td>0.1179</td>\n",
              "      <td>0.1157</td>\n",
              "      <td>0.1129</td>\n",
              "      <td>0.1004</td>\n",
              "      <td>0.0989</td>\n",
              "      <td>0.0971</td>\n",
              "      <td>0.0943</td>\n",
              "      <td>0.0873</td>\n",
              "      <td>...</td>\n",
              "      <td>99</td>\n",
              "      <td>151</td>\n",
              "      <td>178</td>\n",
              "      <td>173</td>\n",
              "      <td>86</td>\n",
              "      <td>93</td>\n",
              "      <td>87</td>\n",
              "      <td>72</td>\n",
              "      <td>76</td>\n",
              "      <td>71</td>\n",
              "    </tr>\n",
              "  </tbody>\n",
              "</table>\n",
              "<p>5 rows × 41 columns</p>\n",
              "</div>\n",
              "    <div class=\"colab-df-buttons\">\n",
              "\n",
              "  <div class=\"colab-df-container\">\n",
              "    <button class=\"colab-df-convert\" onclick=\"convertToInteractive('df-1438b9f1-9266-45d9-a8f2-76cb78418606')\"\n",
              "            title=\"Convert this dataframe to an interactive table.\"\n",
              "            style=\"display:none;\">\n",
              "\n",
              "  <svg xmlns=\"http://www.w3.org/2000/svg\" height=\"24px\" viewBox=\"0 -960 960 960\">\n",
              "    <path d=\"M120-120v-720h720v720H120Zm60-500h600v-160H180v160Zm220 220h160v-160H400v160Zm0 220h160v-160H400v160ZM180-400h160v-160H180v160Zm440 0h160v-160H620v160ZM180-180h160v-160H180v160Zm440 0h160v-160H620v160Z\"/>\n",
              "  </svg>\n",
              "    </button>\n",
              "\n",
              "  <style>\n",
              "    .colab-df-container {\n",
              "      display:flex;\n",
              "      gap: 12px;\n",
              "    }\n",
              "\n",
              "    .colab-df-convert {\n",
              "      background-color: #E8F0FE;\n",
              "      border: none;\n",
              "      border-radius: 50%;\n",
              "      cursor: pointer;\n",
              "      display: none;\n",
              "      fill: #1967D2;\n",
              "      height: 32px;\n",
              "      padding: 0 0 0 0;\n",
              "      width: 32px;\n",
              "    }\n",
              "\n",
              "    .colab-df-convert:hover {\n",
              "      background-color: #E2EBFA;\n",
              "      box-shadow: 0px 1px 2px rgba(60, 64, 67, 0.3), 0px 1px 3px 1px rgba(60, 64, 67, 0.15);\n",
              "      fill: #174EA6;\n",
              "    }\n",
              "\n",
              "    .colab-df-buttons div {\n",
              "      margin-bottom: 4px;\n",
              "    }\n",
              "\n",
              "    [theme=dark] .colab-df-convert {\n",
              "      background-color: #3B4455;\n",
              "      fill: #D2E3FC;\n",
              "    }\n",
              "\n",
              "    [theme=dark] .colab-df-convert:hover {\n",
              "      background-color: #434B5C;\n",
              "      box-shadow: 0px 1px 3px 1px rgba(0, 0, 0, 0.15);\n",
              "      filter: drop-shadow(0px 1px 2px rgba(0, 0, 0, 0.3));\n",
              "      fill: #FFFFFF;\n",
              "    }\n",
              "  </style>\n",
              "\n",
              "    <script>\n",
              "      const buttonEl =\n",
              "        document.querySelector('#df-1438b9f1-9266-45d9-a8f2-76cb78418606 button.colab-df-convert');\n",
              "      buttonEl.style.display =\n",
              "        google.colab.kernel.accessAllowed ? 'block' : 'none';\n",
              "\n",
              "      async function convertToInteractive(key) {\n",
              "        const element = document.querySelector('#df-1438b9f1-9266-45d9-a8f2-76cb78418606');\n",
              "        const dataTable =\n",
              "          await google.colab.kernel.invokeFunction('convertToInteractive',\n",
              "                                                    [key], {});\n",
              "        if (!dataTable) return;\n",
              "\n",
              "        const docLinkHtml = 'Like what you see? Visit the ' +\n",
              "          '<a target=\"_blank\" href=https://colab.research.google.com/notebooks/data_table.ipynb>data table notebook</a>'\n",
              "          + ' to learn more about interactive tables.';\n",
              "        element.innerHTML = '';\n",
              "        dataTable['output_type'] = 'display_data';\n",
              "        await google.colab.output.renderOutput(dataTable, element);\n",
              "        const docLink = document.createElement('div');\n",
              "        docLink.innerHTML = docLinkHtml;\n",
              "        element.appendChild(docLink);\n",
              "      }\n",
              "    </script>\n",
              "  </div>\n",
              "\n",
              "\n",
              "<div id=\"df-200c44de-4ff6-4cb3-b707-e25b4bbfefc8\">\n",
              "  <button class=\"colab-df-quickchart\" onclick=\"quickchart('df-200c44de-4ff6-4cb3-b707-e25b4bbfefc8')\"\n",
              "            title=\"Suggest charts\"\n",
              "            style=\"display:none;\">\n",
              "\n",
              "<svg xmlns=\"http://www.w3.org/2000/svg\" height=\"24px\"viewBox=\"0 0 24 24\"\n",
              "     width=\"24px\">\n",
              "    <g>\n",
              "        <path d=\"M19 3H5c-1.1 0-2 .9-2 2v14c0 1.1.9 2 2 2h14c1.1 0 2-.9 2-2V5c0-1.1-.9-2-2-2zM9 17H7v-7h2v7zm4 0h-2V7h2v10zm4 0h-2v-4h2v4z\"/>\n",
              "    </g>\n",
              "</svg>\n",
              "  </button>\n",
              "\n",
              "<style>\n",
              "  .colab-df-quickchart {\n",
              "      --bg-color: #E8F0FE;\n",
              "      --fill-color: #1967D2;\n",
              "      --hover-bg-color: #E2EBFA;\n",
              "      --hover-fill-color: #174EA6;\n",
              "      --disabled-fill-color: #AAA;\n",
              "      --disabled-bg-color: #DDD;\n",
              "  }\n",
              "\n",
              "  [theme=dark] .colab-df-quickchart {\n",
              "      --bg-color: #3B4455;\n",
              "      --fill-color: #D2E3FC;\n",
              "      --hover-bg-color: #434B5C;\n",
              "      --hover-fill-color: #FFFFFF;\n",
              "      --disabled-bg-color: #3B4455;\n",
              "      --disabled-fill-color: #666;\n",
              "  }\n",
              "\n",
              "  .colab-df-quickchart {\n",
              "    background-color: var(--bg-color);\n",
              "    border: none;\n",
              "    border-radius: 50%;\n",
              "    cursor: pointer;\n",
              "    display: none;\n",
              "    fill: var(--fill-color);\n",
              "    height: 32px;\n",
              "    padding: 0;\n",
              "    width: 32px;\n",
              "  }\n",
              "\n",
              "  .colab-df-quickchart:hover {\n",
              "    background-color: var(--hover-bg-color);\n",
              "    box-shadow: 0 1px 2px rgba(60, 64, 67, 0.3), 0 1px 3px 1px rgba(60, 64, 67, 0.15);\n",
              "    fill: var(--button-hover-fill-color);\n",
              "  }\n",
              "\n",
              "  .colab-df-quickchart-complete:disabled,\n",
              "  .colab-df-quickchart-complete:disabled:hover {\n",
              "    background-color: var(--disabled-bg-color);\n",
              "    fill: var(--disabled-fill-color);\n",
              "    box-shadow: none;\n",
              "  }\n",
              "\n",
              "  .colab-df-spinner {\n",
              "    border: 2px solid var(--fill-color);\n",
              "    border-color: transparent;\n",
              "    border-bottom-color: var(--fill-color);\n",
              "    animation:\n",
              "      spin 1s steps(1) infinite;\n",
              "  }\n",
              "\n",
              "  @keyframes spin {\n",
              "    0% {\n",
              "      border-color: transparent;\n",
              "      border-bottom-color: var(--fill-color);\n",
              "      border-left-color: var(--fill-color);\n",
              "    }\n",
              "    20% {\n",
              "      border-color: transparent;\n",
              "      border-left-color: var(--fill-color);\n",
              "      border-top-color: var(--fill-color);\n",
              "    }\n",
              "    30% {\n",
              "      border-color: transparent;\n",
              "      border-left-color: var(--fill-color);\n",
              "      border-top-color: var(--fill-color);\n",
              "      border-right-color: var(--fill-color);\n",
              "    }\n",
              "    40% {\n",
              "      border-color: transparent;\n",
              "      border-right-color: var(--fill-color);\n",
              "      border-top-color: var(--fill-color);\n",
              "    }\n",
              "    60% {\n",
              "      border-color: transparent;\n",
              "      border-right-color: var(--fill-color);\n",
              "    }\n",
              "    80% {\n",
              "      border-color: transparent;\n",
              "      border-right-color: var(--fill-color);\n",
              "      border-bottom-color: var(--fill-color);\n",
              "    }\n",
              "    90% {\n",
              "      border-color: transparent;\n",
              "      border-bottom-color: var(--fill-color);\n",
              "    }\n",
              "  }\n",
              "</style>\n",
              "\n",
              "  <script>\n",
              "    async function quickchart(key) {\n",
              "      const quickchartButtonEl =\n",
              "        document.querySelector('#' + key + ' button');\n",
              "      quickchartButtonEl.disabled = true;  // To prevent multiple clicks.\n",
              "      quickchartButtonEl.classList.add('colab-df-spinner');\n",
              "      try {\n",
              "        const charts = await google.colab.kernel.invokeFunction(\n",
              "            'suggestCharts', [key], {});\n",
              "      } catch (error) {\n",
              "        console.error('Error during call to suggestCharts:', error);\n",
              "      }\n",
              "      quickchartButtonEl.classList.remove('colab-df-spinner');\n",
              "      quickchartButtonEl.classList.add('colab-df-quickchart-complete');\n",
              "    }\n",
              "    (() => {\n",
              "      let quickchartButtonEl =\n",
              "        document.querySelector('#df-200c44de-4ff6-4cb3-b707-e25b4bbfefc8 button');\n",
              "      quickchartButtonEl.style.display =\n",
              "        google.colab.kernel.accessAllowed ? 'block' : 'none';\n",
              "    })();\n",
              "  </script>\n",
              "</div>\n",
              "\n",
              "    </div>\n",
              "  </div>\n"
            ],
            "application/vnd.google.colaboratory.intrinsic+json": {
              "type": "dataframe",
              "variable_name": "balanced_data"
            }
          },
          "metadata": {},
          "execution_count": 3
        }
      ]
    },
    {
      "cell_type": "code",
      "execution_count": null,
      "metadata": {
        "colab": {
          "base_uri": "https://localhost:8080/"
        },
        "id": "LrlgsefiBoaE",
        "outputId": "70afa17f-8496-4141-cbea-7d0b4bbcc725"
      },
      "outputs": [
        {
          "output_type": "stream",
          "name": "stdout",
          "text": [
            "label\n",
            "CORAL       0.5\n",
            "CORAL_BL    0.5\n",
            "Name: count, dtype: float64\n"
          ]
        }
      ],
      "source": [
        "# Ensure balanced dataset\n",
        "train_X = balanced_data.drop('label', axis=1)\n",
        "train_y = balanced_data['label']\n",
        "count = train_y.value_counts()\n",
        "print(count/len(train_y))\n"
      ]
    },
    {
      "cell_type": "code",
      "source": [
        "# Train test val split (default 0.25)\n",
        "from sklearn.model_selection import train_test_split\n",
        "X_trainVal, X_test, y_trainVal, y_test = train_test_split(train_X, train_y, random_state=42, stratify=train_y)\n",
        "X_train, X_val, y_train, y_val = train_test_split(X_trainVal, y_trainVal, random_state=42, stratify=y_trainVal)"
      ],
      "metadata": {
        "id": "dZZIAv4ZHgut"
      },
      "execution_count": null,
      "outputs": []
    },
    {
      "cell_type": "markdown",
      "source": [
        "# Random Forest"
      ],
      "metadata": {
        "id": "5h_b-8uhHs07"
      }
    },
    {
      "cell_type": "code",
      "source": [
        "from sklearn.ensemble import RandomForestClassifier\n",
        "from sklearn.model_selection import GridSearchCV\n",
        "\n",
        "# Test following parameter combinations\n",
        "param_grid = {\n",
        "    'n_estimators': [25, 50, 75],\n",
        "    'max_depth': [15],\n",
        "    'min_samples_split': [2],\n",
        "    'min_samples_leaf': [3, 4, 5]\n",
        "}\n",
        "\n",
        "# Build random forest model and search for best parameters\n",
        "rf_model = RandomForestClassifier(random_state=42)\n",
        "grid_search = GridSearchCV(rf_model, param_grid, cv=3, n_jobs=-1, verbose=2)\n",
        "grid_search.fit(X_train, y_train)\n",
        "\n",
        "# Get the best model\n",
        "best_rf_model = grid_search.best_estimator_\n",
        "\n",
        "# Evaluate the best model on the validation set\n",
        "validation_score = best_rf_model.score(X_val, y_val)\n",
        "print(f'Validation Accuracy: {validation_score:.4f}')\n"
      ],
      "metadata": {
        "colab": {
          "base_uri": "https://localhost:8080/"
        },
        "id": "g60WBWJ3HuMe",
        "outputId": "99ce32e1-a08c-4be0-ad2a-6594bf18c7c5"
      },
      "execution_count": null,
      "outputs": [
        {
          "output_type": "stream",
          "name": "stdout",
          "text": [
            "Fitting 3 folds for each of 9 candidates, totalling 27 fits\n",
            "Validation Accuracy: 0.8112\n"
          ]
        }
      ]
    },
    {
      "cell_type": "code",
      "source": [
        "print(f\"Best parameters: {grid_search.best_params_}\")\n",
        "print(f\"Best score: {grid_search.best_score_}\")\n",
        "\n",
        "# Final evaluation on the test set\n",
        "test_score = best_rf_model.score(X_test, y_test)\n",
        "print(f'Test Accuracy: {test_score:.4f}')"
      ],
      "metadata": {
        "colab": {
          "base_uri": "https://localhost:8080/"
        },
        "id": "HjEQfrW1M6dl",
        "outputId": "5ffb4f7b-47d3-41c8-d45e-a8893e4e342a"
      },
      "execution_count": null,
      "outputs": [
        {
          "output_type": "stream",
          "name": "stdout",
          "text": [
            "Best parameters: {'max_depth': 15, 'min_samples_leaf': 4, 'min_samples_split': 2, 'n_estimators': 50}\n",
            "Best score: 0.8070448070448072\n",
            "Test Accuracy: 0.7972\n"
          ]
        }
      ]
    },
    {
      "cell_type": "code",
      "source": [
        "# Print AUC graph\n",
        "import numpy as np\n",
        "from sklearn import metrics\n",
        "\n",
        "pred = best_rf_model.predict_proba(X_val)[:, 1]\n",
        "fpr, tpr, thresholds = metrics.roc_curve(y_val, pred, pos_label=\"CORAL_BL\")\n",
        "print(metrics.auc(fpr, tpr))\n",
        "\n",
        "import matplotlib.pylab as plt\n",
        "lw=2\n",
        "plt.plot(fpr, tpr)\n",
        "plt.plot([0, 1], [0, 1], color='navy', lw=lw, linestyle='--')\n",
        "plt.xlim([0.0, 1.0])\n",
        "plt.ylim([0.0, 1.05])\n",
        "plt.xlabel('False Positive Rate')\n",
        "plt.ylabel('True Positive Rate')"
      ],
      "metadata": {
        "colab": {
          "base_uri": "https://localhost:8080/",
          "height": 484
        },
        "id": "BgSysZmYZjom",
        "outputId": "fd5f805c-8ee8-4229-8a8e-a3ac70ac2795"
      },
      "execution_count": null,
      "outputs": [
        {
          "output_type": "stream",
          "name": "stdout",
          "text": [
            "0.8941346367473895\n"
          ]
        },
        {
          "output_type": "execute_result",
          "data": {
            "text/plain": [
              "Text(0, 0.5, 'True Positive Rate')"
            ]
          },
          "metadata": {},
          "execution_count": 8
        },
        {
          "output_type": "display_data",
          "data": {
            "text/plain": [
              "<Figure size 640x480 with 1 Axes>"
            ],
            "image/png": "[encoded data removed]"
          },
          "metadata": {}
        }
      ]
    },
    {
      "cell_type": "code",
      "source": [
        "from sklearn.metrics import classification_report, confusion_matrix, accuracy_score\n",
        "\n",
        "# Predict on the test set\n",
        "y_pred = best_rf_model.predict(X_test)\n",
        "\n",
        "# Accuracy\n",
        "test_accuracy = accuracy_score(y_test, y_pred)\n",
        "print(f\"\\nTest Accuracy: {test_accuracy:.4f}\")\n",
        "\n",
        "# Classification Report (includes precision, recall, f1-score)\n",
        "print(\"\\nClassification Report:\")\n",
        "print(classification_report(y_test, y_pred, target_names=best_rf_model.classes_))\n"
      ],
      "metadata": {
        "colab": {
          "base_uri": "https://localhost:8080/"
        },
        "id": "KpCBk7h7Hvbz",
        "outputId": "07792498-5aab-445b-a628-e1de93ca77ba"
      },
      "execution_count": null,
      "outputs": [
        {
          "output_type": "stream",
          "name": "stdout",
          "text": [
            "\n",
            "Test Accuracy: 0.7972\n",
            "\n",
            "Classification Report:\n",
            "              precision    recall  f1-score   support\n",
            "\n",
            "       CORAL       0.81      0.78      0.79       858\n",
            "    CORAL_BL       0.79      0.82      0.80       858\n",
            "\n",
            "    accuracy                           0.80      1716\n",
            "   macro avg       0.80      0.80      0.80      1716\n",
            "weighted avg       0.80      0.80      0.80      1716\n",
            "\n"
          ]
        }
      ]
    },
    {
      "cell_type": "code",
      "source": [
        "# Print confusion matrix\n",
        "import seaborn as sns\n",
        "from sklearn.metrics import confusion_matrix\n",
        "\n",
        "confusion_matrix = confusion_matrix(y_test, y_pred)\n",
        "sns.heatmap(confusion_matrix, annot=True, fmt='d', cmap='viridis', xticklabels=best_rf_model.classes_, yticklabels=best_rf_model.classes_)\n",
        "plt.xlabel('Predicted')\n",
        "plt.ylabel('True')\n"
      ],
      "metadata": {
        "colab": {
          "base_uri": "https://localhost:8080/",
          "height": 471
        },
        "id": "NUxNDQP-bem0",
        "outputId": "78765682-42b2-4d33-eccc-67b0963aecfb"
      },
      "execution_count": null,
      "outputs": [
        {
          "output_type": "execute_result",
          "data": {
            "text/plain": [
              "Text(50.722222222222214, 0.5, 'True')"
            ]
          },
          "metadata": {},
          "execution_count": 10
        },
        {
          "output_type": "display_data",
          "data": {
            "text/plain": [
              "<Figure size 640x480 with 2 Axes>"
            ],
            "image/png": "[encoded data removed]"
          },
          "metadata": {}
        }
      ]
    },
    {
      "cell_type": "markdown",
      "source": [
        "# CORAL 5 COLORS"
      ],
      "metadata": {
        "id": "r10MPhtYUCQ8"
      }
    },
    {
      "cell_type": "code",
      "source": [
        "import pandas as pd\n",
        "\n",
        "def hex_to_rgb(hex_color):\n",
        "    \"\"\"\n",
        "    Convert a hexadecimal color code to its RGB representation.\n",
        "\n",
        "    Args:\n",
        "        hex_color (str): A string representing a hexadecimal color code,\n",
        "                         e.g., '#ffcc00' or 'ffcc00'.\n",
        "\n",
        "    Returns:\n",
        "        list: A list of three integers corresponding to the RGB values,\n",
        "              e.g., [255, 204, 0] for '#ffcc00'.\n",
        "    \"\"\"\n",
        "    hex_color = hex_color.lstrip('#')  # Remove the '#' if present\n",
        "    return [int(hex_color[i:i+2], 16) for i in (0, 2, 4)]  # Convert hex pairs to RGB values\n",
        "\n",
        "\n",
        "def convert_colors_to_rgb(data):\n",
        "    \"\"\"\n",
        "    Convert hex color columns in a DataFrame to separate RGB columns.\n",
        "\n",
        "    This function assumes the presence of columns named 'color1' to 'color5',\n",
        "    each containing a hexadecimal color code. It converts each hex color to its\n",
        "    RGB representation and adds three new columns for each color:\n",
        "    'color{i}_R', 'color{i}_G', and 'color{i}_B'.\n",
        "\n",
        "    Args:\n",
        "        data (pd.DataFrame): A pandas DataFrame with columns named 'color1' through 'color5',\n",
        "                             each containing a hex color string (e.g., '#ffcc00').\n",
        "\n",
        "    Returns:\n",
        "        pd.DataFrame: The original DataFrame augmented with 15 new columns for RGB components.\n",
        "    \"\"\"\n",
        "    for i in range(1, 6):  # Loop through color1 to color5\n",
        "        color_column = f'color{i}'\n",
        "        data[[f'color{i}_R', f'color{i}_G', f'color{i}_B']] = data[color_column].apply(\n",
        "            lambda x: pd.Series(hex_to_rgb(x))\n",
        "        )\n",
        "    return data\n",
        "\n",
        "\n",
        "# `coral_data` is your loaded DataFrame\n",
        "coral_data = pd.read_csv('coral_colors5.csv')\n",
        "\n",
        "# Convert color columns to RGB\n",
        "coral_data = convert_colors_to_rgb(coral_data)\n",
        "\n",
        "# Drop the original hex color columns\n",
        "coral_data = coral_data.drop(columns=[f'color{i}' for i in range(1, 6)])\n",
        "\n",
        "# Optional: Save to new data frame\n",
        "# coral_data.to_csv('coral_colors5_rgb.csv', index=False)\n",
        "\n",
        "# Undersample the majority class (CORAL) to match CORAL_BL\n",
        "coral = coral_data[coral_data['label'] == 'CORAL']\n",
        "coral_bl = coral_data[coral_data['label'] == 'CORAL_BL']\n",
        "\n",
        "coral_sampled = coral.sample(n=len(coral_bl), random_state=42)\n",
        "balanced_data = pd.concat([coral_sampled, coral_bl])\n",
        "\n",
        "# Shuffle the balanced dataset\n",
        "balanced_data = balanced_data.sample(frac=1, random_state=42).reset_index(drop=True)\n",
        "\n",
        "# Check the result\n",
        "balanced_data.head()\n",
        "\n"
      ],
      "metadata": {
        "colab": {
          "base_uri": "https://localhost:8080/",
          "height": 256
        },
        "id": "LyElW3ZXUEIY",
        "outputId": "38397015-d686-4011-b737-64606ff8f319"
      },
      "execution_count": 1,
      "outputs": [
        {
          "output_type": "execute_result",
          "data": {
            "text/plain": [
              "      label  frequency1  frequency2  frequency3  frequency4  frequency5  \\\n",
              "0     CORAL      0.5001      0.3382      0.1050      0.0433      0.0134   \n",
              "1     CORAL      0.3365      0.2448      0.1992      0.1388      0.0807   \n",
              "2     CORAL      0.2898      0.2851      0.2209      0.1056      0.0986   \n",
              "3  CORAL_BL      0.3762      0.2717      0.2196      0.1063      0.0262   \n",
              "4  CORAL_BL      0.2409      0.2397      0.1982      0.1894      0.1318   \n",
              "\n",
              "   color1_R  color1_G  color1_B  color2_R  ...  color2_B  color3_R  color3_G  \\\n",
              "0        13        11         9        35  ...        19        51        43   \n",
              "1        40        49        29        59  ...        42        79        89   \n",
              "2        82       119        76        71  ...        66        94       141   \n",
              "3       182       175       112       194  ...       127       169       157   \n",
              "4       135       155       147       120  ...       127       102       113   \n",
              "\n",
              "   color3_B  color4_R  color4_G  color4_B  color5_R  color5_G  color5_B  \n",
              "0        33        78        69        59       113       109        99  \n",
              "1        53        99       109        64       120       132        81  \n",
              "2        86       108       161       103        56        80        49  \n",
              "3        95       147       130        79        90        75        50  \n",
              "4       105       148       173       167        83        88        83  \n",
              "\n",
              "[5 rows x 21 columns]"
            ],
            "text/html": [
              "\n",
              "  <div id=\"df-4077282a-d628-49d6-81c4-8a1d498b239c\" class=\"colab-df-container\">\n",
              "    <div>\n",
              "<style scoped>\n",
              "    .dataframe tbody tr th:only-of-type {\n",
              "        vertical-align: middle;\n",
              "    }\n",
              "\n",
              "    .dataframe tbody tr th {\n",
              "        vertical-align: top;\n",
              "    }\n",
              "\n",
              "    .dataframe thead th {\n",
              "        text-align: right;\n",
              "    }\n",
              "</style>\n",
              "<table border=\"1\" class=\"dataframe\">\n",
              "  <thead>\n",
              "    <tr style=\"text-align: right;\">\n",
              "      <th></th>\n",
              "      <th>label</th>\n",
              "      <th>frequency1</th>\n",
              "      <th>frequency2</th>\n",
              "      <th>frequency3</th>\n",
              "      <th>frequency4</th>\n",
              "      <th>frequency5</th>\n",
              "      <th>color1_R</th>\n",
              "      <th>color1_G</th>\n",
              "      <th>color1_B</th>\n",
              "      <th>color2_R</th>\n",
              "      <th>...</th>\n",
              "      <th>color2_B</th>\n",
              "      <th>color3_R</th>\n",
              "      <th>color3_G</th>\n",
              "      <th>color3_B</th>\n",
              "      <th>color4_R</th>\n",
              "      <th>color4_G</th>\n",
              "      <th>color4_B</th>\n",
              "      <th>color5_R</th>\n",
              "      <th>color5_G</th>\n",
              "      <th>color5_B</th>\n",
              "    </tr>\n",
              "  </thead>\n",
              "  <tbody>\n",
              "    <tr>\n",
              "      <th>0</th>\n",
              "      <td>CORAL</td>\n",
              "      <td>0.5001</td>\n",
              "      <td>0.3382</td>\n",
              "      <td>0.1050</td>\n",
              "      <td>0.0433</td>\n",
              "      <td>0.0134</td>\n",
              "      <td>13</td>\n",
              "      <td>11</td>\n",
              "      <td>9</td>\n",
              "      <td>35</td>\n",
              "      <td>...</td>\n",
              "      <td>19</td>\n",
              "      <td>51</td>\n",
              "      <td>43</td>\n",
              "      <td>33</td>\n",
              "      <td>78</td>\n",
              "      <td>69</td>\n",
              "      <td>59</td>\n",
              "      <td>113</td>\n",
              "      <td>109</td>\n",
              "      <td>99</td>\n",
              "    </tr>\n",
              "    <tr>\n",
              "      <th>1</th>\n",
              "      <td>CORAL</td>\n",
              "      <td>0.3365</td>\n",
              "      <td>0.2448</td>\n",
              "      <td>0.1992</td>\n",
              "      <td>0.1388</td>\n",
              "      <td>0.0807</td>\n",
              "      <td>40</td>\n",
              "      <td>49</td>\n",
              "      <td>29</td>\n",
              "      <td>59</td>\n",
              "      <td>...</td>\n",
              "      <td>42</td>\n",
              "      <td>79</td>\n",
              "      <td>89</td>\n",
              "      <td>53</td>\n",
              "      <td>99</td>\n",
              "      <td>109</td>\n",
              "      <td>64</td>\n",
              "      <td>120</td>\n",
              "      <td>132</td>\n",
              "      <td>81</td>\n",
              "    </tr>\n",
              "    <tr>\n",
              "      <th>2</th>\n",
              "      <td>CORAL</td>\n",
              "      <td>0.2898</td>\n",
              "      <td>0.2851</td>\n",
              "      <td>0.2209</td>\n",
              "      <td>0.1056</td>\n",
              "      <td>0.0986</td>\n",
              "      <td>82</td>\n",
              "      <td>119</td>\n",
              "      <td>76</td>\n",
              "      <td>71</td>\n",
              "      <td>...</td>\n",
              "      <td>66</td>\n",
              "      <td>94</td>\n",
              "      <td>141</td>\n",
              "      <td>86</td>\n",
              "      <td>108</td>\n",
              "      <td>161</td>\n",
              "      <td>103</td>\n",
              "      <td>56</td>\n",
              "      <td>80</td>\n",
              "      <td>49</td>\n",
              "    </tr>\n",
              "    <tr>\n",
              "      <th>3</th>\n",
              "      <td>CORAL_BL</td>\n",
              "      <td>0.3762</td>\n",
              "      <td>0.2717</td>\n",
              "      <td>0.2196</td>\n",
              "      <td>0.1063</td>\n",
              "      <td>0.0262</td>\n",
              "      <td>182</td>\n",
              "      <td>175</td>\n",
              "      <td>112</td>\n",
              "      <td>194</td>\n",
              "      <td>...</td>\n",
              "      <td>127</td>\n",
              "      <td>169</td>\n",
              "      <td>157</td>\n",
              "      <td>95</td>\n",
              "      <td>147</td>\n",
              "      <td>130</td>\n",
              "      <td>79</td>\n",
              "      <td>90</td>\n",
              "      <td>75</td>\n",
              "      <td>50</td>\n",
              "    </tr>\n",
              "    <tr>\n",
              "      <th>4</th>\n",
              "      <td>CORAL_BL</td>\n",
              "      <td>0.2409</td>\n",
              "      <td>0.2397</td>\n",
              "      <td>0.1982</td>\n",
              "      <td>0.1894</td>\n",
              "      <td>0.1318</td>\n",
              "      <td>135</td>\n",
              "      <td>155</td>\n",
              "      <td>147</td>\n",
              "      <td>120</td>\n",
              "      <td>...</td>\n",
              "      <td>127</td>\n",
              "      <td>102</td>\n",
              "      <td>113</td>\n",
              "      <td>105</td>\n",
              "      <td>148</td>\n",
              "      <td>173</td>\n",
              "      <td>167</td>\n",
              "      <td>83</td>\n",
              "      <td>88</td>\n",
              "      <td>83</td>\n",
              "    </tr>\n",
              "  </tbody>\n",
              "</table>\n",
              "<p>5 rows × 21 columns</p>\n",
              "</div>\n",
              "    <div class=\"colab-df-buttons\">\n",
              "\n",
              "  <div class=\"colab-df-container\">\n",
              "    <button class=\"colab-df-convert\" onclick=\"convertToInteractive('df-4077282a-d628-49d6-81c4-8a1d498b239c')\"\n",
              "            title=\"Convert this dataframe to an interactive table.\"\n",
              "            style=\"display:none;\">\n",
              "\n",
              "  <svg xmlns=\"http://www.w3.org/2000/svg\" height=\"24px\" viewBox=\"0 -960 960 960\">\n",
              "    <path d=\"M120-120v-720h720v720H120Zm60-500h600v-160H180v160Zm220 220h160v-160H400v160Zm0 220h160v-160H400v160ZM180-400h160v-160H180v160Zm440 0h160v-160H620v160ZM180-180h160v-160H180v160Zm440 0h160v-160H620v160Z\"/>\n",
              "  </svg>\n",
              "    </button>\n",
              "\n",
              "  <style>\n",
              "    .colab-df-container {\n",
              "      display:flex;\n",
              "      gap: 12px;\n",
              "    }\n",
              "\n",
              "    .colab-df-convert {\n",
              "      background-color: #E8F0FE;\n",
              "      border: none;\n",
              "      border-radius: 50%;\n",
              "      cursor: pointer;\n",
              "      display: none;\n",
              "      fill: #1967D2;\n",
              "      height: 32px;\n",
              "      padding: 0 0 0 0;\n",
              "      width: 32px;\n",
              "    }\n",
              "\n",
              "    .colab-df-convert:hover {\n",
              "      background-color: #E2EBFA;\n",
              "      box-shadow: 0px 1px 2px rgba(60, 64, 67, 0.3), 0px 1px 3px 1px rgba(60, 64, 67, 0.15);\n",
              "      fill: #174EA6;\n",
              "    }\n",
              "\n",
              "    .colab-df-buttons div {\n",
              "      margin-bottom: 4px;\n",
              "    }\n",
              "\n",
              "    [theme=dark] .colab-df-convert {\n",
              "      background-color: #3B4455;\n",
              "      fill: #D2E3FC;\n",
              "    }\n",
              "\n",
              "    [theme=dark] .colab-df-convert:hover {\n",
              "      background-color: #434B5C;\n",
              "      box-shadow: 0px 1px 3px 1px rgba(0, 0, 0, 0.15);\n",
              "      filter: drop-shadow(0px 1px 2px rgba(0, 0, 0, 0.3));\n",
              "      fill: #FFFFFF;\n",
              "    }\n",
              "  </style>\n",
              "\n",
              "    <script>\n",
              "      const buttonEl =\n",
              "        document.querySelector('#df-4077282a-d628-49d6-81c4-8a1d498b239c button.colab-df-convert');\n",
              "      buttonEl.style.display =\n",
              "        google.colab.kernel.accessAllowed ? 'block' : 'none';\n",
              "\n",
              "      async function convertToInteractive(key) {\n",
              "        const element = document.querySelector('#df-4077282a-d628-49d6-81c4-8a1d498b239c');\n",
              "        const dataTable =\n",
              "          await google.colab.kernel.invokeFunction('convertToInteractive',\n",
              "                                                    [key], {});\n",
              "        if (!dataTable) return;\n",
              "\n",
              "        const docLinkHtml = 'Like what you see? Visit the ' +\n",
              "          '<a target=\"_blank\" href=https://colab.research.google.com/notebooks/data_table.ipynb>data table notebook</a>'\n",
              "          + ' to learn more about interactive tables.';\n",
              "        element.innerHTML = '';\n",
              "        dataTable['output_type'] = 'display_data';\n",
              "        await google.colab.output.renderOutput(dataTable, element);\n",
              "        const docLink = document.createElement('div');\n",
              "        docLink.innerHTML = docLinkHtml;\n",
              "        element.appendChild(docLink);\n",
              "      }\n",
              "    </script>\n",
              "  </div>\n",
              "\n",
              "\n",
              "    <div id=\"df-b2aab04f-66ee-4348-9f88-d7d6a999198b\">\n",
              "      <button class=\"colab-df-quickchart\" onclick=\"quickchart('df-b2aab04f-66ee-4348-9f88-d7d6a999198b')\"\n",
              "                title=\"Suggest charts\"\n",
              "                style=\"display:none;\">\n",
              "\n",
              "<svg xmlns=\"http://www.w3.org/2000/svg\" height=\"24px\"viewBox=\"0 0 24 24\"\n",
              "     width=\"24px\">\n",
              "    <g>\n",
              "        <path d=\"M19 3H5c-1.1 0-2 .9-2 2v14c0 1.1.9 2 2 2h14c1.1 0 2-.9 2-2V5c0-1.1-.9-2-2-2zM9 17H7v-7h2v7zm4 0h-2V7h2v10zm4 0h-2v-4h2v4z\"/>\n",
              "    </g>\n",
              "</svg>\n",
              "      </button>\n",
              "\n",
              "<style>\n",
              "  .colab-df-quickchart {\n",
              "      --bg-color: #E8F0FE;\n",
              "      --fill-color: #1967D2;\n",
              "      --hover-bg-color: #E2EBFA;\n",
              "      --hover-fill-color: #174EA6;\n",
              "      --disabled-fill-color: #AAA;\n",
              "      --disabled-bg-color: #DDD;\n",
              "  }\n",
              "\n",
              "  [theme=dark] .colab-df-quickchart {\n",
              "      --bg-color: #3B4455;\n",
              "      --fill-color: #D2E3FC;\n",
              "      --hover-bg-color: #434B5C;\n",
              "      --hover-fill-color: #FFFFFF;\n",
              "      --disabled-bg-color: #3B4455;\n",
              "      --disabled-fill-color: #666;\n",
              "  }\n",
              "\n",
              "  .colab-df-quickchart {\n",
              "    background-color: var(--bg-color);\n",
              "    border: none;\n",
              "    border-radius: 50%;\n",
              "    cursor: pointer;\n",
              "    display: none;\n",
              "    fill: var(--fill-color);\n",
              "    height: 32px;\n",
              "    padding: 0;\n",
              "    width: 32px;\n",
              "  }\n",
              "\n",
              "  .colab-df-quickchart:hover {\n",
              "    background-color: var(--hover-bg-color);\n",
              "    box-shadow: 0 1px 2px rgba(60, 64, 67, 0.3), 0 1px 3px 1px rgba(60, 64, 67, 0.15);\n",
              "    fill: var(--button-hover-fill-color);\n",
              "  }\n",
              "\n",
              "  .colab-df-quickchart-complete:disabled,\n",
              "  .colab-df-quickchart-complete:disabled:hover {\n",
              "    background-color: var(--disabled-bg-color);\n",
              "    fill: var(--disabled-fill-color);\n",
              "    box-shadow: none;\n",
              "  }\n",
              "\n",
              "  .colab-df-spinner {\n",
              "    border: 2px solid var(--fill-color);\n",
              "    border-color: transparent;\n",
              "    border-bottom-color: var(--fill-color);\n",
              "    animation:\n",
              "      spin 1s steps(1) infinite;\n",
              "  }\n",
              "\n",
              "  @keyframes spin {\n",
              "    0% {\n",
              "      border-color: transparent;\n",
              "      border-bottom-color: var(--fill-color);\n",
              "      border-left-color: var(--fill-color);\n",
              "    }\n",
              "    20% {\n",
              "      border-color: transparent;\n",
              "      border-left-color: var(--fill-color);\n",
              "      border-top-color: var(--fill-color);\n",
              "    }\n",
              "    30% {\n",
              "      border-color: transparent;\n",
              "      border-left-color: var(--fill-color);\n",
              "      border-top-color: var(--fill-color);\n",
              "      border-right-color: var(--fill-color);\n",
              "    }\n",
              "    40% {\n",
              "      border-color: transparent;\n",
              "      border-right-color: var(--fill-color);\n",
              "      border-top-color: var(--fill-color);\n",
              "    }\n",
              "    60% {\n",
              "      border-color: transparent;\n",
              "      border-right-color: var(--fill-color);\n",
              "    }\n",
              "    80% {\n",
              "      border-color: transparent;\n",
              "      border-right-color: var(--fill-color);\n",
              "      border-bottom-color: var(--fill-color);\n",
              "    }\n",
              "    90% {\n",
              "      border-color: transparent;\n",
              "      border-bottom-color: var(--fill-color);\n",
              "    }\n",
              "  }\n",
              "</style>\n",
              "\n",
              "      <script>\n",
              "        async function quickchart(key) {\n",
              "          const quickchartButtonEl =\n",
              "            document.querySelector('#' + key + ' button');\n",
              "          quickchartButtonEl.disabled = true;  // To prevent multiple clicks.\n",
              "          quickchartButtonEl.classList.add('colab-df-spinner');\n",
              "          try {\n",
              "            const charts = await google.colab.kernel.invokeFunction(\n",
              "                'suggestCharts', [key], {});\n",
              "          } catch (error) {\n",
              "            console.error('Error during call to suggestCharts:', error);\n",
              "          }\n",
              "          quickchartButtonEl.classList.remove('colab-df-spinner');\n",
              "          quickchartButtonEl.classList.add('colab-df-quickchart-complete');\n",
              "        }\n",
              "        (() => {\n",
              "          let quickchartButtonEl =\n",
              "            document.querySelector('#df-b2aab04f-66ee-4348-9f88-d7d6a999198b button');\n",
              "          quickchartButtonEl.style.display =\n",
              "            google.colab.kernel.accessAllowed ? 'block' : 'none';\n",
              "        })();\n",
              "      </script>\n",
              "    </div>\n",
              "\n",
              "    </div>\n",
              "  </div>\n"
            ],
            "application/vnd.google.colaboratory.intrinsic+json": {
              "type": "dataframe",
              "variable_name": "balanced_data"
            }
          },
          "metadata": {},
          "execution_count": 1
        }
      ]
    },
    {
      "cell_type": "code",
      "source": [
        "# Ensure balanced dataset\n",
        "train_X = balanced_data.drop('label', axis=1)\n",
        "train_y = balanced_data['label']\n",
        "count = train_y.value_counts()\n",
        "print(count/len(train_y))\n"
      ],
      "metadata": {
        "colab": {
          "base_uri": "https://localhost:8080/"
        },
        "id": "KOeuYwmGUFDy",
        "outputId": "0d8faa64-856d-409a-ab55-d018c4a0c471"
      },
      "execution_count": 2,
      "outputs": [
        {
          "output_type": "stream",
          "name": "stdout",
          "text": [
            "label\n",
            "CORAL       0.5\n",
            "CORAL_BL    0.5\n",
            "Name: count, dtype: float64\n"
          ]
        }
      ]
    },
    {
      "cell_type": "code",
      "source": [
        "# Train test val split (default 0.25)\n",
        "from sklearn.model_selection import train_test_split\n",
        "X_trainVal, X_test, y_trainVal, y_test = train_test_split(train_X, train_y, random_state=42, stratify=train_y)\n",
        "X_train, X_val, y_train, y_val = train_test_split(X_trainVal, y_trainVal, random_state=42, stratify=y_trainVal)"
      ],
      "metadata": {
        "id": "nmu38cEcULQe"
      },
      "execution_count": 3,
      "outputs": []
    },
    {
      "cell_type": "code",
      "source": [
        "from sklearn.ensemble import RandomForestClassifier\n",
        "from sklearn.model_selection import GridSearchCV\n",
        "# Test the following parameter combinations\n",
        "param_grid = {\n",
        "    'n_estimators': range(100, 310, 10),\n",
        "    'max_depth': range(15, 26, 1),\n",
        "    'min_samples_split': range(1, 6, 1),\n",
        "    'min_samples_leaf': [1, 2, 4]\n",
        "}\n",
        "\n",
        "# Build a random forest model\n",
        "rf_model = RandomForestClassifier(random_state=42)\n",
        "grid_search = GridSearchCV(rf_model, param_grid, cv=3, n_jobs=-1, verbose=2)\n",
        "grid_search.fit(X_train, y_train)\n",
        "\n",
        "# Get the best model\n",
        "best_rf_model = grid_search.best_estimator_\n",
        "\n",
        "# Evaluate the best model on the validation set\n",
        "validation_score = best_rf_model.score(X_val, y_val)\n",
        "print(f'Validation Accuracy: {validation_score:.4f}')\n"
      ],
      "metadata": {
        "colab": {
          "base_uri": "https://localhost:8080/"
        },
        "id": "IVzGpRKpUN0t",
        "outputId": "1b2580e6-f3de-4d36-ebbf-5290f01c68b4"
      },
      "execution_count": null,
      "outputs": [
        {
          "output_type": "stream",
          "name": "stdout",
          "text": [
            "Fitting 3 folds for each of 3465 candidates, totalling 10395 fits\n"
          ]
        },
        {
          "output_type": "stream",
          "name": "stderr",
          "text": [
            "/usr/local/lib/python3.11/dist-packages/sklearn/model_selection/_validation.py:528: FitFailedWarning: \n",
            "2079 fits failed out of a total of 10395.\n",
            "The score on these train-test partitions for these parameters will be set to nan.\n",
            "If these failures are not expected, you can try to debug them by setting error_score='raise'.\n",
            "\n",
            "Below are more details about the failures:\n",
            "--------------------------------------------------------------------------------\n",
            "2079 fits failed with the following error:\n",
            "Traceback (most recent call last):\n",
            "  File \"/usr/local/lib/python3.11/dist-packages/sklearn/model_selection/_validation.py\", line 866, in _fit_and_score\n",
            "    estimator.fit(X_train, y_train, **fit_params)\n",
            "  File \"/usr/local/lib/python3.11/dist-packages/sklearn/base.py\", line 1382, in wrapper\n",
            "    estimator._validate_params()\n",
            "  File \"/usr/local/lib/python3.11/dist-packages/sklearn/base.py\", line 436, in _validate_params\n",
            "    validate_parameter_constraints(\n",
            "  File \"/usr/local/lib/python3.11/dist-packages/sklearn/utils/_param_validation.py\", line 98, in validate_parameter_constraints\n",
            "    raise InvalidParameterError(\n",
            "sklearn.utils._param_validation.InvalidParameterError: The 'min_samples_split' parameter of RandomForestClassifier must be an int in the range [2, inf) or a float in the range (0.0, 1.0]. Got 1 instead.\n",
            "\n",
            "  warnings.warn(some_fits_failed_message, FitFailedWarning)\n",
            "/usr/local/lib/python3.11/dist-packages/sklearn/model_selection/_search.py:1108: UserWarning: One or more of the test scores are non-finite: [      nan       nan       nan ... 0.7987568 0.7987568 0.7992748]\n",
            "  warnings.warn(\n"
          ]
        },
        {
          "output_type": "stream",
          "name": "stdout",
          "text": [
            "Validation Accuracy: 0.8236\n"
          ]
        }
      ]
    },
    {
      "cell_type": "code",
      "source": [
        "print(f\"Best parameters: {grid_search.best_params_}\")\n",
        "print(f\"Best score: {grid_search.best_score_}\")\n",
        "\n",
        "# Final evaluation on the test set\n",
        "test_score = best_rf_model.score(X_test, y_test)\n",
        "print(f'Test Accuracy: {test_score:.4f}')"
      ],
      "metadata": {
        "colab": {
          "base_uri": "https://localhost:8080/"
        },
        "id": "cUrhT4MhUQrD",
        "outputId": "35e6650c-2c07-4aef-9436-307ae7002016"
      },
      "execution_count": null,
      "outputs": [
        {
          "output_type": "stream",
          "name": "stdout",
          "text": [
            "Best parameters: {'max_depth': 16, 'min_samples_leaf': 2, 'min_samples_split': 5, 'n_estimators': 260}\n",
            "Best score: 0.8041958041958042\n",
            "Test Accuracy: 0.8001\n"
          ]
        }
      ]
    },
    {
      "cell_type": "code",
      "source": [
        "import numpy as np\n",
        "from sklearn import metrics\n",
        "# Print AUC graph\n",
        "pred = best_rf_model.predict_proba(X_val)[:, 1]\n",
        "fpr, tpr, thresholds = metrics.roc_curve(y_val, pred, pos_label=\"CORAL_BL\")\n",
        "print(metrics.auc(fpr, tpr))\n",
        "\n",
        "import matplotlib.pylab as plt\n",
        "lw=2\n",
        "plt.plot(fpr, tpr)\n",
        "plt.plot([0, 1], [0, 1], color='navy', lw=lw, linestyle='--')\n",
        "plt.xlim([0.0, 1.0])\n",
        "plt.ylim([0.0, 1.05])\n",
        "plt.xlabel('False Positive Rate')\n",
        "plt.ylabel('True Positive Rate')"
      ],
      "metadata": {
        "colab": {
          "base_uri": "https://localhost:8080/",
          "height": 484
        },
        "id": "HlcQ7MgdUZS8",
        "outputId": "0528e3d7-fc60-4252-9913-3273ccc389df"
      },
      "execution_count": null,
      "outputs": [
        {
          "output_type": "stream",
          "name": "stdout",
          "text": [
            "0.8954869932285578\n"
          ]
        },
        {
          "output_type": "execute_result",
          "data": {
            "text/plain": [
              "Text(0, 0.5, 'True Positive Rate')"
            ]
          },
          "metadata": {},
          "execution_count": 6
        },
        {
          "output_type": "display_data",
          "data": {
            "text/plain": [
              "<Figure size 640x480 with 1 Axes>"
            ],
            "image/png": "[encoded data removed]"
          },
          "metadata": {}
        }
      ]
    },
    {
      "cell_type": "code",
      "source": [
        "from sklearn.metrics import classification_report, confusion_matrix, accuracy_score\n",
        "\n",
        "# Predict on the test set\n",
        "y_pred = best_rf_model.predict(X_test)\n",
        "\n",
        "# Accuracy\n",
        "test_accuracy = accuracy_score(y_test, y_pred)\n",
        "print(f\"\\nTest Accuracy: {test_accuracy:.4f}\")\n",
        "\n",
        "# Classification Report (includes precision, recall, f1-score)\n",
        "print(\"\\nClassification Report:\")\n",
        "print(classification_report(y_test, y_pred, target_names=best_rf_model.classes_))\n"
      ],
      "metadata": {
        "colab": {
          "base_uri": "https://localhost:8080/"
        },
        "id": "15mDJ5tRUb55",
        "outputId": "01c0d85e-734a-48dd-e92b-88de084c4c25"
      },
      "execution_count": null,
      "outputs": [
        {
          "output_type": "stream",
          "name": "stdout",
          "text": [
            "\n",
            "Test Accuracy: 0.8001\n",
            "\n",
            "Classification Report:\n",
            "              precision    recall  f1-score   support\n",
            "\n",
            "       CORAL       0.80      0.81      0.80       858\n",
            "    CORAL_BL       0.80      0.79      0.80       858\n",
            "\n",
            "    accuracy                           0.80      1716\n",
            "   macro avg       0.80      0.80      0.80      1716\n",
            "weighted avg       0.80      0.80      0.80      1716\n",
            "\n"
          ]
        }
      ]
    },
    {
      "cell_type": "code",
      "source": [
        "import seaborn as sns\n",
        "from sklearn.metrics import confusion_matrix\n",
        "\n",
        "# Print confusion matrix\n",
        "confusion_matrix = confusion_matrix(y_test, y_pred)\n",
        "sns.heatmap(confusion_matrix, annot=True, fmt='d', cmap='viridis', xticklabels=best_rf_model.classes_, yticklabels=best_rf_model.classes_)\n",
        "plt.xlabel('Predicted')\n",
        "plt.ylabel('True')\n"
      ],
      "metadata": {
        "colab": {
          "base_uri": "https://localhost:8080/",
          "height": 466
        },
        "id": "cNeFhaTsUd_Q",
        "outputId": "97709fab-f31c-4ff1-84b5-f73245ab27a1"
      },
      "execution_count": null,
      "outputs": [
        {
          "output_type": "execute_result",
          "data": {
            "text/plain": [
              "Text(50.722222222222214, 0.5, 'True')"
            ]
          },
          "metadata": {},
          "execution_count": 8
        },
        {
          "output_type": "display_data",
          "data": {
            "text/plain": [
              "<Figure size 640x480 with 2 Axes>"
            ],
            "image/png": "[encoded data removed]"
          },
          "metadata": {}
        }
      ]
    },
    {
      "cell_type": "markdown",
      "source": [
        "# SVM CORAL 5 COLORS"
      ],
      "metadata": {
        "id": "NobKBe8Ugay6"
      }
    },
    {
      "cell_type": "code",
      "source": [
        "import pandas as pd\n",
        "\n",
        "def hex_to_rgb(hex_color):\n",
        "    \"\"\"\n",
        "    Convert a hexadecimal color code to its RGB representation.\n",
        "\n",
        "    Args:\n",
        "        hex_color (str): A string representing a hexadecimal color code,\n",
        "                         e.g., '#ffcc00' or 'ffcc00'.\n",
        "\n",
        "    Returns:\n",
        "        list: A list of three integers corresponding to the RGB values,\n",
        "              e.g., [255, 204, 0] for '#ffcc00'.\n",
        "    \"\"\"\n",
        "    hex_color = hex_color.lstrip('#')  # Remove the '#' if present\n",
        "    return [int(hex_color[i:i+2], 16) for i in (0, 2, 4)]  # Convert hex pairs to RGB values\n",
        "\n",
        "\n",
        "def convert_colors_to_rgb(data):\n",
        "    \"\"\"\n",
        "    Convert hex color columns in a DataFrame to separate RGB columns.\n",
        "\n",
        "    This function assumes the presence of columns named 'color1' to 'color5',\n",
        "    each containing a hexadecimal color code. It converts each hex color to its\n",
        "    RGB representation and adds three new columns for each color:\n",
        "    'color{i}_R', 'color{i}_G', and 'color{i}_B'.\n",
        "\n",
        "    Args:\n",
        "        data (pd.DataFrame): A pandas DataFrame with columns named 'color1' through 'color5',\n",
        "                             each containing a hex color string (e.g., '#ffcc00').\n",
        "\n",
        "    Returns:\n",
        "        pd.DataFrame: The original DataFrame augmented with 15 new columns for RGB components.\n",
        "    \"\"\"\n",
        "    for i in range(1, 6):  # Loop through color1 to color5\n",
        "        color_column = f'color{i}'\n",
        "        data[[f'color{i}_R', f'color{i}_G', f'color{i}_B']] = data[color_column].apply(\n",
        "            lambda x: pd.Series(hex_to_rgb(x))\n",
        "        )\n",
        "    return data\n",
        "\n",
        "\n",
        "# `coral_data` is your loaded DataFrame\n",
        "coral_data = pd.read_csv('coral_colors5.csv')\n",
        "\n",
        "# Convert color columns to RGB\n",
        "coral_data = convert_colors_to_rgb(coral_data)\n",
        "\n",
        "# Drop the original hex color columns\n",
        "coral_data = coral_data.drop(columns=[f'color{i}' for i in range(1, 6)])\n",
        "\n",
        "# Optional: Save to new data frame\n",
        "# coral_data.to_csv('coral_colors5_rgb.csv', index=False)\n",
        "\n",
        "# Undersample the majority class (CORAL) to match CORAL_BL\n",
        "coral = coral_data[coral_data['label'] == 'CORAL']\n",
        "coral_bl = coral_data[coral_data['label'] == 'CORAL_BL']\n",
        "\n",
        "coral_sampled = coral.sample(n=len(coral_bl), random_state=42)\n",
        "balanced_data = pd.concat([coral_sampled, coral_bl])\n",
        "\n",
        "# Shuffle the balanced dataset\n",
        "balanced_data = balanced_data.sample(frac=1, random_state=42).reset_index(drop=True)\n",
        "\n",
        "# Check the result\n",
        "balanced_data.head()\n",
        "\n"
      ],
      "metadata": {
        "colab": {
          "base_uri": "https://localhost:8080/",
          "height": 256
        },
        "id": "R8aXGhozgaNa",
        "outputId": "2d1af10e-a3de-4294-93e4-8d54f4727462"
      },
      "execution_count": null,
      "outputs": [
        {
          "output_type": "execute_result",
          "data": {
            "text/plain": [
              "      label  frequency1  frequency2  frequency3  frequency4  frequency5  \\\n",
              "0     CORAL      0.5001      0.3382      0.1050      0.0433      0.0134   \n",
              "1     CORAL      0.3365      0.2448      0.1992      0.1388      0.0807   \n",
              "2     CORAL      0.2898      0.2851      0.2209      0.1056      0.0986   \n",
              "3  CORAL_BL      0.3762      0.2717      0.2196      0.1063      0.0262   \n",
              "4  CORAL_BL      0.2409      0.2397      0.1982      0.1894      0.1318   \n",
              "\n",
              "   color1_R  color1_G  color1_B  color2_R  ...  color2_B  color3_R  color3_G  \\\n",
              "0        13        11         9        35  ...        19        51        43   \n",
              "1        40        49        29        59  ...        42        79        89   \n",
              "2        82       119        76        71  ...        66        94       141   \n",
              "3       182       175       112       194  ...       127       169       157   \n",
              "4       135       155       147       120  ...       127       102       113   \n",
              "\n",
              "   color3_B  color4_R  color4_G  color4_B  color5_R  color5_G  color5_B  \n",
              "0        33        78        69        59       113       109        99  \n",
              "1        53        99       109        64       120       132        81  \n",
              "2        86       108       161       103        56        80        49  \n",
              "3        95       147       130        79        90        75        50  \n",
              "4       105       148       173       167        83        88        83  \n",
              "\n",
              "[5 rows x 21 columns]"
            ],
            "text/html": [
              "\n",
              "  <div id=\"df-4dfeba0e-2461-4967-b3e5-a75f6fed3b2a\" class=\"colab-df-container\">\n",
              "    <div>\n",
              "<style scoped>\n",
              "    .dataframe tbody tr th:only-of-type {\n",
              "        vertical-align: middle;\n",
              "    }\n",
              "\n",
              "    .dataframe tbody tr th {\n",
              "        vertical-align: top;\n",
              "    }\n",
              "\n",
              "    .dataframe thead th {\n",
              "        text-align: right;\n",
              "    }\n",
              "</style>\n",
              "<table border=\"1\" class=\"dataframe\">\n",
              "  <thead>\n",
              "    <tr style=\"text-align: right;\">\n",
              "      <th></th>\n",
              "      <th>label</th>\n",
              "      <th>frequency1</th>\n",
              "      <th>frequency2</th>\n",
              "      <th>frequency3</th>\n",
              "      <th>frequency4</th>\n",
              "      <th>frequency5</th>\n",
              "      <th>color1_R</th>\n",
              "      <th>color1_G</th>\n",
              "      <th>color1_B</th>\n",
              "      <th>color2_R</th>\n",
              "      <th>...</th>\n",
              "      <th>color2_B</th>\n",
              "      <th>color3_R</th>\n",
              "      <th>color3_G</th>\n",
              "      <th>color3_B</th>\n",
              "      <th>color4_R</th>\n",
              "      <th>color4_G</th>\n",
              "      <th>color4_B</th>\n",
              "      <th>color5_R</th>\n",
              "      <th>color5_G</th>\n",
              "      <th>color5_B</th>\n",
              "    </tr>\n",
              "  </thead>\n",
              "  <tbody>\n",
              "    <tr>\n",
              "      <th>0</th>\n",
              "      <td>CORAL</td>\n",
              "      <td>0.5001</td>\n",
              "      <td>0.3382</td>\n",
              "      <td>0.1050</td>\n",
              "      <td>0.0433</td>\n",
              "      <td>0.0134</td>\n",
              "      <td>13</td>\n",
              "      <td>11</td>\n",
              "      <td>9</td>\n",
              "      <td>35</td>\n",
              "      <td>...</td>\n",
              "      <td>19</td>\n",
              "      <td>51</td>\n",
              "      <td>43</td>\n",
              "      <td>33</td>\n",
              "      <td>78</td>\n",
              "      <td>69</td>\n",
              "      <td>59</td>\n",
              "      <td>113</td>\n",
              "      <td>109</td>\n",
              "      <td>99</td>\n",
              "    </tr>\n",
              "    <tr>\n",
              "      <th>1</th>\n",
              "      <td>CORAL</td>\n",
              "      <td>0.3365</td>\n",
              "      <td>0.2448</td>\n",
              "      <td>0.1992</td>\n",
              "      <td>0.1388</td>\n",
              "      <td>0.0807</td>\n",
              "      <td>40</td>\n",
              "      <td>49</td>\n",
              "      <td>29</td>\n",
              "      <td>59</td>\n",
              "      <td>...</td>\n",
              "      <td>42</td>\n",
              "      <td>79</td>\n",
              "      <td>89</td>\n",
              "      <td>53</td>\n",
              "      <td>99</td>\n",
              "      <td>109</td>\n",
              "      <td>64</td>\n",
              "      <td>120</td>\n",
              "      <td>132</td>\n",
              "      <td>81</td>\n",
              "    </tr>\n",
              "    <tr>\n",
              "      <th>2</th>\n",
              "      <td>CORAL</td>\n",
              "      <td>0.2898</td>\n",
              "      <td>0.2851</td>\n",
              "      <td>0.2209</td>\n",
              "      <td>0.1056</td>\n",
              "      <td>0.0986</td>\n",
              "      <td>82</td>\n",
              "      <td>119</td>\n",
              "      <td>76</td>\n",
              "      <td>71</td>\n",
              "      <td>...</td>\n",
              "      <td>66</td>\n",
              "      <td>94</td>\n",
              "      <td>141</td>\n",
              "      <td>86</td>\n",
              "      <td>108</td>\n",
              "      <td>161</td>\n",
              "      <td>103</td>\n",
              "      <td>56</td>\n",
              "      <td>80</td>\n",
              "      <td>49</td>\n",
              "    </tr>\n",
              "    <tr>\n",
              "      <th>3</th>\n",
              "      <td>CORAL_BL</td>\n",
              "      <td>0.3762</td>\n",
              "      <td>0.2717</td>\n",
              "      <td>0.2196</td>\n",
              "      <td>0.1063</td>\n",
              "      <td>0.0262</td>\n",
              "      <td>182</td>\n",
              "      <td>175</td>\n",
              "      <td>112</td>\n",
              "      <td>194</td>\n",
              "      <td>...</td>\n",
              "      <td>127</td>\n",
              "      <td>169</td>\n",
              "      <td>157</td>\n",
              "      <td>95</td>\n",
              "      <td>147</td>\n",
              "      <td>130</td>\n",
              "      <td>79</td>\n",
              "      <td>90</td>\n",
              "      <td>75</td>\n",
              "      <td>50</td>\n",
              "    </tr>\n",
              "    <tr>\n",
              "      <th>4</th>\n",
              "      <td>CORAL_BL</td>\n",
              "      <td>0.2409</td>\n",
              "      <td>0.2397</td>\n",
              "      <td>0.1982</td>\n",
              "      <td>0.1894</td>\n",
              "      <td>0.1318</td>\n",
              "      <td>135</td>\n",
              "      <td>155</td>\n",
              "      <td>147</td>\n",
              "      <td>120</td>\n",
              "      <td>...</td>\n",
              "      <td>127</td>\n",
              "      <td>102</td>\n",
              "      <td>113</td>\n",
              "      <td>105</td>\n",
              "      <td>148</td>\n",
              "      <td>173</td>\n",
              "      <td>167</td>\n",
              "      <td>83</td>\n",
              "      <td>88</td>\n",
              "      <td>83</td>\n",
              "    </tr>\n",
              "  </tbody>\n",
              "</table>\n",
              "<p>5 rows × 21 columns</p>\n",
              "</div>\n",
              "    <div class=\"colab-df-buttons\">\n",
              "\n",
              "  <div class=\"colab-df-container\">\n",
              "    <button class=\"colab-df-convert\" onclick=\"convertToInteractive('df-4dfeba0e-2461-4967-b3e5-a75f6fed3b2a')\"\n",
              "            title=\"Convert this dataframe to an interactive table.\"\n",
              "            style=\"display:none;\">\n",
              "\n",
              "  <svg xmlns=\"http://www.w3.org/2000/svg\" height=\"24px\" viewBox=\"0 -960 960 960\">\n",
              "    <path d=\"M120-120v-720h720v720H120Zm60-500h600v-160H180v160Zm220 220h160v-160H400v160Zm0 220h160v-160H400v160ZM180-400h160v-160H180v160Zm440 0h160v-160H620v160ZM180-180h160v-160H180v160Zm440 0h160v-160H620v160Z\"/>\n",
              "  </svg>\n",
              "    </button>\n",
              "\n",
              "  <style>\n",
              "    .colab-df-container {\n",
              "      display:flex;\n",
              "      gap: 12px;\n",
              "    }\n",
              "\n",
              "    .colab-df-convert {\n",
              "      background-color: #E8F0FE;\n",
              "      border: none;\n",
              "      border-radius: 50%;\n",
              "      cursor: pointer;\n",
              "      display: none;\n",
              "      fill: #1967D2;\n",
              "      height: 32px;\n",
              "      padding: 0 0 0 0;\n",
              "      width: 32px;\n",
              "    }\n",
              "\n",
              "    .colab-df-convert:hover {\n",
              "      background-color: #E2EBFA;\n",
              "      box-shadow: 0px 1px 2px rgba(60, 64, 67, 0.3), 0px 1px 3px 1px rgba(60, 64, 67, 0.15);\n",
              "      fill: #174EA6;\n",
              "    }\n",
              "\n",
              "    .colab-df-buttons div {\n",
              "      margin-bottom: 4px;\n",
              "    }\n",
              "\n",
              "    [theme=dark] .colab-df-convert {\n",
              "      background-color: #3B4455;\n",
              "      fill: #D2E3FC;\n",
              "    }\n",
              "\n",
              "    [theme=dark] .colab-df-convert:hover {\n",
              "      background-color: #434B5C;\n",
              "      box-shadow: 0px 1px 3px 1px rgba(0, 0, 0, 0.15);\n",
              "      filter: drop-shadow(0px 1px 2px rgba(0, 0, 0, 0.3));\n",
              "      fill: #FFFFFF;\n",
              "    }\n",
              "  </style>\n",
              "\n",
              "    <script>\n",
              "      const buttonEl =\n",
              "        document.querySelector('#df-4dfeba0e-2461-4967-b3e5-a75f6fed3b2a button.colab-df-convert');\n",
              "      buttonEl.style.display =\n",
              "        google.colab.kernel.accessAllowed ? 'block' : 'none';\n",
              "\n",
              "      async function convertToInteractive(key) {\n",
              "        const element = document.querySelector('#df-4dfeba0e-2461-4967-b3e5-a75f6fed3b2a');\n",
              "        const dataTable =\n",
              "          await google.colab.kernel.invokeFunction('convertToInteractive',\n",
              "                                                    [key], {});\n",
              "        if (!dataTable) return;\n",
              "\n",
              "        const docLinkHtml = 'Like what you see? Visit the ' +\n",
              "          '<a target=\"_blank\" href=https://colab.research.google.com/notebooks/data_table.ipynb>data table notebook</a>'\n",
              "          + ' to learn more about interactive tables.';\n",
              "        element.innerHTML = '';\n",
              "        dataTable['output_type'] = 'display_data';\n",
              "        await google.colab.output.renderOutput(dataTable, element);\n",
              "        const docLink = document.createElement('div');\n",
              "        docLink.innerHTML = docLinkHtml;\n",
              "        element.appendChild(docLink);\n",
              "      }\n",
              "    </script>\n",
              "  </div>\n",
              "\n",
              "\n",
              "<div id=\"df-f94a03da-7328-494e-92b8-bfc1b9efe061\">\n",
              "  <button class=\"colab-df-quickchart\" onclick=\"quickchart('df-f94a03da-7328-494e-92b8-bfc1b9efe061')\"\n",
              "            title=\"Suggest charts\"\n",
              "            style=\"display:none;\">\n",
              "\n",
              "<svg xmlns=\"http://www.w3.org/2000/svg\" height=\"24px\"viewBox=\"0 0 24 24\"\n",
              "     width=\"24px\">\n",
              "    <g>\n",
              "        <path d=\"M19 3H5c-1.1 0-2 .9-2 2v14c0 1.1.9 2 2 2h14c1.1 0 2-.9 2-2V5c0-1.1-.9-2-2-2zM9 17H7v-7h2v7zm4 0h-2V7h2v10zm4 0h-2v-4h2v4z\"/>\n",
              "    </g>\n",
              "</svg>\n",
              "  </button>\n",
              "\n",
              "<style>\n",
              "  .colab-df-quickchart {\n",
              "      --bg-color: #E8F0FE;\n",
              "      --fill-color: #1967D2;\n",
              "      --hover-bg-color: #E2EBFA;\n",
              "      --hover-fill-color: #174EA6;\n",
              "      --disabled-fill-color: #AAA;\n",
              "      --disabled-bg-color: #DDD;\n",
              "  }\n",
              "\n",
              "  [theme=dark] .colab-df-quickchart {\n",
              "      --bg-color: #3B4455;\n",
              "      --fill-color: #D2E3FC;\n",
              "      --hover-bg-color: #434B5C;\n",
              "      --hover-fill-color: #FFFFFF;\n",
              "      --disabled-bg-color: #3B4455;\n",
              "      --disabled-fill-color: #666;\n",
              "  }\n",
              "\n",
              "  .colab-df-quickchart {\n",
              "    background-color: var(--bg-color);\n",
              "    border: none;\n",
              "    border-radius: 50%;\n",
              "    cursor: pointer;\n",
              "    display: none;\n",
              "    fill: var(--fill-color);\n",
              "    height: 32px;\n",
              "    padding: 0;\n",
              "    width: 32px;\n",
              "  }\n",
              "\n",
              "  .colab-df-quickchart:hover {\n",
              "    background-color: var(--hover-bg-color);\n",
              "    box-shadow: 0 1px 2px rgba(60, 64, 67, 0.3), 0 1px 3px 1px rgba(60, 64, 67, 0.15);\n",
              "    fill: var(--button-hover-fill-color);\n",
              "  }\n",
              "\n",
              "  .colab-df-quickchart-complete:disabled,\n",
              "  .colab-df-quickchart-complete:disabled:hover {\n",
              "    background-color: var(--disabled-bg-color);\n",
              "    fill: var(--disabled-fill-color);\n",
              "    box-shadow: none;\n",
              "  }\n",
              "\n",
              "  .colab-df-spinner {\n",
              "    border: 2px solid var(--fill-color);\n",
              "    border-color: transparent;\n",
              "    border-bottom-color: var(--fill-color);\n",
              "    animation:\n",
              "      spin 1s steps(1) infinite;\n",
              "  }\n",
              "\n",
              "  @keyframes spin {\n",
              "    0% {\n",
              "      border-color: transparent;\n",
              "      border-bottom-color: var(--fill-color);\n",
              "      border-left-color: var(--fill-color);\n",
              "    }\n",
              "    20% {\n",
              "      border-color: transparent;\n",
              "      border-left-color: var(--fill-color);\n",
              "      border-top-color: var(--fill-color);\n",
              "    }\n",
              "    30% {\n",
              "      border-color: transparent;\n",
              "      border-left-color: var(--fill-color);\n",
              "      border-top-color: var(--fill-color);\n",
              "      border-right-color: var(--fill-color);\n",
              "    }\n",
              "    40% {\n",
              "      border-color: transparent;\n",
              "      border-right-color: var(--fill-color);\n",
              "      border-top-color: var(--fill-color);\n",
              "    }\n",
              "    60% {\n",
              "      border-color: transparent;\n",
              "      border-right-color: var(--fill-color);\n",
              "    }\n",
              "    80% {\n",
              "      border-color: transparent;\n",
              "      border-right-color: var(--fill-color);\n",
              "      border-bottom-color: var(--fill-color);\n",
              "    }\n",
              "    90% {\n",
              "      border-color: transparent;\n",
              "      border-bottom-color: var(--fill-color);\n",
              "    }\n",
              "  }\n",
              "</style>\n",
              "\n",
              "  <script>\n",
              "    async function quickchart(key) {\n",
              "      const quickchartButtonEl =\n",
              "        document.querySelector('#' + key + ' button');\n",
              "      quickchartButtonEl.disabled = true;  // To prevent multiple clicks.\n",
              "      quickchartButtonEl.classList.add('colab-df-spinner');\n",
              "      try {\n",
              "        const charts = await google.colab.kernel.invokeFunction(\n",
              "            'suggestCharts', [key], {});\n",
              "      } catch (error) {\n",
              "        console.error('Error during call to suggestCharts:', error);\n",
              "      }\n",
              "      quickchartButtonEl.classList.remove('colab-df-spinner');\n",
              "      quickchartButtonEl.classList.add('colab-df-quickchart-complete');\n",
              "    }\n",
              "    (() => {\n",
              "      let quickchartButtonEl =\n",
              "        document.querySelector('#df-f94a03da-7328-494e-92b8-bfc1b9efe061 button');\n",
              "      quickchartButtonEl.style.display =\n",
              "        google.colab.kernel.accessAllowed ? 'block' : 'none';\n",
              "    })();\n",
              "  </script>\n",
              "</div>\n",
              "\n",
              "    </div>\n",
              "  </div>\n"
            ],
            "application/vnd.google.colaboratory.intrinsic+json": {
              "type": "dataframe",
              "variable_name": "balanced_data"
            }
          },
          "metadata": {},
          "execution_count": 19
        }
      ]
    },
    {
      "cell_type": "code",
      "source": [
        "# Ensure balanced dataset\n",
        "train_X = balanced_data.drop('label', axis=1)\n",
        "train_y = balanced_data['label']\n",
        "count = train_y.value_counts()\n",
        "print(count/len(train_y))"
      ],
      "metadata": {
        "colab": {
          "base_uri": "https://localhost:8080/"
        },
        "id": "3kM7RVNEigDI",
        "outputId": "9d72be39-3ddd-419b-be35-f385bedb6188"
      },
      "execution_count": 5,
      "outputs": [
        {
          "output_type": "stream",
          "name": "stdout",
          "text": [
            "label\n",
            "CORAL       0.5\n",
            "CORAL_BL    0.5\n",
            "Name: count, dtype: float64\n"
          ]
        }
      ]
    },
    {
      "cell_type": "code",
      "source": [
        "from sklearn.model_selection import train_test_split\n",
        "# Split into train test val sets (default 0.25)\n",
        "X_trainVal, X_test, y_trainVal, y_test = train_test_split(train_X, train_y, random_state=42, stratify=train_y)\n",
        "X_train, X_val, y_train, y_val = train_test_split(X_trainVal, y_trainVal, random_state=42, stratify=y_trainVal)"
      ],
      "metadata": {
        "id": "eGUsO-8TijUI"
      },
      "execution_count": 6,
      "outputs": []
    },
    {
      "cell_type": "code",
      "source": [
        "from sklearn.preprocessing import StandardScaler\n",
        "\n",
        "# Scale only using training data\n",
        "scaler = StandardScaler()\n",
        "X_train_scaled = scaler.fit_transform(X_train)  # Fit + transform on train\n",
        "X_val_scaled = scaler.transform(X_val)          # Transform val with train scale\n",
        "X_test_scaled = scaler.transform(X_test)        # Transform test with train scale"
      ],
      "metadata": {
        "id": "ytXmBklUiyYg"
      },
      "execution_count": 7,
      "outputs": []
    },
    {
      "cell_type": "code",
      "source": [
        "from sklearn.svm import SVC\n",
        "from sklearn.model_selection import GridSearchCV\n",
        "from sklearn.metrics import classification_report\n",
        "\n",
        "# Define the SVM model\n",
        "svm_model = SVC(probability=True)\n",
        "\n",
        "# Set up the parameter grid for GridSearchCV\n",
        "param_grid = {\n",
        "    'C': [5, 10, 15, 20],               # Regularization parameter\n",
        "    'kernel': ['rbf', 'poly'],     # Kernel types\n",
        "    'gamma': ['scale'],      # Kernel coefficient for 'rbf' kernel\n",
        "    'degree': [1, 2, 3, 4]              # Polynomial degree (if using 'poly' kernel)\n",
        "}\n",
        "\n",
        "# Set up GridSearchCV with 5-fold cross-validation\n",
        "grid_search = GridSearchCV(estimator=svm_model, param_grid=param_grid,\n",
        "                           cv=3, n_jobs=-1, verbose=2, scoring='accuracy')\n",
        "\n",
        "# Fit the grid search on training data\n",
        "grid_search.fit(X_train_scaled, y_train)\n",
        "\n",
        "# Get the best parameters from grid search\n",
        "print(f\"Best Parameters: {grid_search.best_params_}\")\n",
        "\n",
        "# Get the best estimator\n",
        "best_svm = grid_search.best_estimator_\n",
        "\n"
      ],
      "metadata": {
        "colab": {
          "base_uri": "https://localhost:8080/"
        },
        "id": "PpfkVWUrjIz1",
        "outputId": "b478780b-fa16-47cb-d335-0eb38b4e9414"
      },
      "execution_count": null,
      "outputs": [
        {
          "output_type": "stream",
          "name": "stdout",
          "text": [
            "Fitting 3 folds for each of 32 candidates, totalling 96 fits\n",
            "Best Parameters: {'C': 20, 'degree': 1, 'gamma': 'scale', 'kernel': 'rbf'}\n"
          ]
        }
      ]
    },
    {
      "cell_type": "code",
      "source": [
        "from sklearn.metrics import classification_report, accuracy_score\n",
        "\n",
        "# Evaluate the model on the validation set\n",
        "y_val_pred = best_svm.predict(X_val_scaled)\n",
        "val_accuracy = accuracy_score(y_val, y_val_pred)\n",
        "print(f\"\\nValidation Accuracy: {val_accuracy:.4f}\")\n",
        "print(\"Classification Report for Validation Set:\")\n",
        "print(classification_report(y_val, y_val_pred))\n",
        "\n",
        "# Evaluate on the test set\n",
        "y_test_pred = best_svm.predict(X_test_scaled)\n",
        "test_accuracy = accuracy_score(y_test, y_test_pred)\n",
        "print(f\"\\nTest Accuracy: {test_accuracy:.4f}\")\n",
        "print(\"Classification Report for Test Set:\")\n",
        "print(classification_report(y_test, y_test_pred))\n",
        "\n"
      ],
      "metadata": {
        "colab": {
          "base_uri": "https://localhost:8080/"
        },
        "id": "JowHkwtQmAdi",
        "outputId": "b3fbada7-59de-4044-b1a3-60e3895549cb"
      },
      "execution_count": null,
      "outputs": [
        {
          "output_type": "stream",
          "name": "stdout",
          "text": [
            "\n",
            "Validation Accuracy: 0.8166\n",
            "Classification Report for Validation Set:\n",
            "              precision    recall  f1-score   support\n",
            "\n",
            "       CORAL       0.79      0.86      0.82       644\n",
            "    CORAL_BL       0.84      0.78      0.81       643\n",
            "\n",
            "    accuracy                           0.82      1287\n",
            "   macro avg       0.82      0.82      0.82      1287\n",
            "weighted avg       0.82      0.82      0.82      1287\n",
            "\n",
            "\n",
            "Test Accuracy: 0.7978\n",
            "Classification Report for Test Set:\n",
            "              precision    recall  f1-score   support\n",
            "\n",
            "       CORAL       0.78      0.83      0.80       858\n",
            "    CORAL_BL       0.82      0.77      0.79       858\n",
            "\n",
            "    accuracy                           0.80      1716\n",
            "   macro avg       0.80      0.80      0.80      1716\n",
            "weighted avg       0.80      0.80      0.80      1716\n",
            "\n"
          ]
        }
      ]
    },
    {
      "cell_type": "code",
      "source": [
        "import numpy as np\n",
        "from sklearn import metrics\n",
        "import matplotlib.pylab as plt\n",
        "\n",
        "# Print AUC graph\n",
        "pred = best_svm.predict_proba(X_val_scaled)[:, 1]\n",
        "fpr, tpr, thresholds = metrics.roc_curve(y_val, pred, pos_label=\"CORAL_BL\")\n",
        "print(metrics.auc(fpr, tpr))\n",
        "\n",
        "lw=2\n",
        "plt.plot(fpr, tpr)\n",
        "plt.plot([0, 1], [0, 1], color='navy', lw=lw, linestyle='--')\n",
        "plt.xlim([0.0, 1.0])\n",
        "plt.ylim([0.0, 1.05])\n",
        "plt.xlabel('False Positive Rate')\n",
        "plt.ylabel('True Positive Rate')"
      ],
      "metadata": {
        "colab": {
          "base_uri": "https://localhost:8080/",
          "height": 484
        },
        "id": "TMHdYVp3j6ty",
        "outputId": "d690c7de-d976-4bfa-aac9-9153781dbd0b"
      },
      "execution_count": null,
      "outputs": [
        {
          "output_type": "stream",
          "name": "stdout",
          "text": [
            "0.8812123875853677\n"
          ]
        },
        {
          "output_type": "execute_result",
          "data": {
            "text/plain": [
              "Text(0, 0.5, 'True Positive Rate')"
            ]
          },
          "metadata": {},
          "execution_count": 25
        },
        {
          "output_type": "display_data",
          "data": {
            "text/plain": [
              "<Figure size 640x480 with 1 Axes>"
            ],
            "image/png": "[encoded data removed]"
          },
          "metadata": {}
        }
      ]
    },
    {
      "cell_type": "code",
      "source": [
        "# --- Classification Report + Confusion Matrix ---\n",
        "import seaborn as sns\n",
        "from sklearn.metrics import confusion_matrix\n",
        "\n",
        "# Print confusion matrix\n",
        "confusion_matrix = confusion_matrix(y_test, y_pred)\n",
        "sns.heatmap(confusion_matrix, annot=True, fmt='d', cmap='viridis', xticklabels=best_svm.classes_, yticklabels=best_svm.classes_)\n",
        "plt.xlabel('Predicted')\n",
        "plt.ylabel('True')"
      ],
      "metadata": {
        "colab": {
          "base_uri": "https://localhost:8080/",
          "height": 466
        },
        "id": "ymJmOxLRkBuw",
        "outputId": "f3a23d81-91fd-434f-d7a1-da2ba0b0537e"
      },
      "execution_count": null,
      "outputs": [
        {
          "output_type": "execute_result",
          "data": {
            "text/plain": [
              "Text(50.722222222222214, 0.5, 'True')"
            ]
          },
          "metadata": {},
          "execution_count": 26
        },
        {
          "output_type": "display_data",
          "data": {
            "text/plain": [
              "<Figure size 640x480 with 2 Axes>"
            ],
            "image/png": "[encoded data removed]"
          },
          "metadata": {}
        }
      ]
    },
    {
      "cell_type": "markdown",
      "source": [
        "# KNN 5 COLORS"
      ],
      "metadata": {
        "id": "uF5kro7lopmL"
      }
    },
    {
      "cell_type": "code",
      "source": [
        "import pandas as pd\n",
        "\n",
        "def hex_to_rgb(hex_color):\n",
        "    \"\"\"\n",
        "    Convert a hexadecimal color code to its RGB representation.\n",
        "\n",
        "    Args:\n",
        "        hex_color (str): A string representing a hexadecimal color code,\n",
        "                         e.g., '#ffcc00' or 'ffcc00'.\n",
        "\n",
        "    Returns:\n",
        "        list: A list of three integers corresponding to the RGB values,\n",
        "              e.g., [255, 204, 0] for '#ffcc00'.\n",
        "    \"\"\"\n",
        "    hex_color = hex_color.lstrip('#')  # Remove the '#' if present\n",
        "    return [int(hex_color[i:i+2], 16) for i in (0, 2, 4)]  # Convert hex pairs to RGB values\n",
        "\n",
        "\n",
        "def convert_colors_to_rgb(data):\n",
        "    \"\"\"\n",
        "    Convert hex color columns in a DataFrame to separate RGB columns.\n",
        "\n",
        "    This function assumes the presence of columns named 'color1' to 'color5',\n",
        "    each containing a hexadecimal color code. It converts each hex color to its\n",
        "    RGB representation and adds three new columns for each color:\n",
        "    'color{i}_R', 'color{i}_G', and 'color{i}_B'.\n",
        "\n",
        "    Args:\n",
        "        data (pd.DataFrame): A pandas DataFrame with columns named 'color1' through 'color5',\n",
        "                             each containing a hex color string (e.g., '#ffcc00').\n",
        "\n",
        "    Returns:\n",
        "        pd.DataFrame: The original DataFrame augmented with 15 new columns for RGB components.\n",
        "    \"\"\"\n",
        "    for i in range(1, 6):  # Loop through color1 to color5\n",
        "        color_column = f'color{i}'\n",
        "        data[[f'color{i}_R', f'color{i}_G', f'color{i}_B']] = data[color_column].apply(\n",
        "            lambda x: pd.Series(hex_to_rgb(x))\n",
        "        )\n",
        "    return data\n",
        "\n",
        "\n",
        "# `coral_data` is your loaded DataFrame\n",
        "coral_data = pd.read_csv('coral_colors5.csv')\n",
        "\n",
        "# Convert color columns to RGB\n",
        "coral_data = convert_colors_to_rgb(coral_data)\n",
        "\n",
        "# Drop the original hex color columns\n",
        "coral_data = coral_data.drop(columns=[f'color{i}' for i in range(1, 6)])\n",
        "\n",
        "# Optional: Save to new data frame\n",
        "# coral_data.to_csv('coral_colors5_rgb.csv', index=False)\n",
        "\n",
        "# Undersample the majority class (CORAL) to match CORAL_BL\n",
        "coral = coral_data[coral_data['label'] == 'CORAL']\n",
        "coral_bl = coral_data[coral_data['label'] == 'CORAL_BL']\n",
        "\n",
        "coral_sampled = coral.sample(n=len(coral_bl), random_state=42)\n",
        "balanced_data = pd.concat([coral_sampled, coral_bl])\n",
        "\n",
        "# Shuffle the balanced dataset\n",
        "balanced_data = balanced_data.sample(frac=1, random_state=42).reset_index(drop=True)\n",
        "\n",
        "# Check the result\n",
        "balanced_data.head()\n",
        "\n"
      ],
      "metadata": {
        "colab": {
          "base_uri": "https://localhost:8080/"
        },
        "id": "Z6AAQtyyooqc",
        "outputId": "dd81d085-3ce5-48ba-a6c8-d64a21b2a7e2"
      },
      "execution_count": null,
      "outputs": [
        {
          "output_type": "stream",
          "name": "stdout",
          "text": [
            "label\n",
            "CORAL       0.5\n",
            "CORAL_BL    0.5\n",
            "Name: count, dtype: float64\n"
          ]
        }
      ]
    },
    {
      "cell_type": "code",
      "source": [
        "from sklearn.neighbors import KNeighborsClassifier\n",
        "\n",
        "# Grid Search KNN\n",
        "param_grid = {\n",
        "    'n_neighbors': [9, 15, 50, 100],\n",
        "    'weights': ['uniform', 'distance'],\n",
        "    'p': [1, 2]  # 1 = Manhattan, 2 = Euclidean\n",
        "}\n",
        "\n",
        "knn = KNeighborsClassifier()\n",
        "grid_search = GridSearchCV(knn, param_grid, cv=3, verbose=2, n_jobs=-1)\n",
        "grid_search.fit(X_train_scaled, y_train)\n",
        "best_knn = grid_search.best_estimator_\n",
        "# Best Hyperparameters\n",
        "print(f\"\\nBest KNN Parameters: {grid_search.best_params_}\")\n"
      ],
      "metadata": {
        "colab": {
          "base_uri": "https://localhost:8080/"
        },
        "id": "jOS2pa5zotVh",
        "outputId": "2a923fec-9eef-4d5b-ea2e-d5add5b9f827"
      },
      "execution_count": null,
      "outputs": [
        {
          "output_type": "stream",
          "name": "stdout",
          "text": [
            "Fitting 3 folds for each of 16 candidates, totalling 48 fits\n",
            "\n",
            "Best KNN Parameters: {'n_neighbors': 50, 'p': 2, 'weights': 'distance'}\n"
          ]
        },
        {
          "output_type": "stream",
          "name": "stderr",
          "text": [
            "/usr/local/lib/python3.11/dist-packages/sklearn/model_selection/_search.py:1108: UserWarning: One or more of the test scores are non-finite: [       nan 0.77829578 0.77415177 0.77492877        nan 0.77415177\n",
            " 0.77337477 0.77389277        nan 0.77803678 0.77674178 0.77855478\n",
            "        nan 0.76974877 0.76767677 0.77207977]\n",
            "  warnings.warn(\n"
          ]
        }
      ]
    },
    {
      "cell_type": "code",
      "source": [
        "\n",
        "# Validation Set Evaluation\n",
        "val_accuracy = best_knn.score(X_val_scaled, y_val)\n",
        "print(f\"Validation Accuracy: {val_accuracy:.4f}\")"
      ],
      "metadata": {
        "colab": {
          "base_uri": "https://localhost:8080/"
        },
        "id": "UC1jYOoVozCh",
        "outputId": "e12e1441-bdfe-4087-c2d8-546954d44381"
      },
      "execution_count": null,
      "outputs": [
        {
          "output_type": "stream",
          "name": "stdout",
          "text": [
            "Validation Accuracy: 0.7910\n"
          ]
        }
      ]
    },
    {
      "cell_type": "code",
      "source": [
        "# ROC Curve\n",
        "pred_proba = best_knn.predict_proba(X_val_scaled)[:, 1]\n",
        "fpr, tpr, _ = metrics.roc_curve(y_val, pred_proba, pos_label=\"CORAL_BL\")\n",
        "print(f\"AUC: {metrics.auc(fpr, tpr):.4f}\")\n",
        "\n",
        "plt.figure()\n",
        "plt.plot(fpr, tpr, label='KNN ROC')\n",
        "plt.plot([0, 1], [0, 1], 'k--')\n",
        "plt.xlabel('False Positive Rate')\n",
        "plt.ylabel('True Positive Rate')\n",
        "plt.title('ROC Curve - KNN')\n",
        "plt.legend()\n",
        "plt.show()"
      ],
      "metadata": {
        "colab": {
          "base_uri": "https://localhost:8080/",
          "height": 489
        },
        "id": "OdoIe0-bo6-R",
        "outputId": "4e367ad9-2d05-49ba-ff0b-fb79d5085c45"
      },
      "execution_count": null,
      "outputs": [
        {
          "output_type": "stream",
          "name": "stdout",
          "text": [
            "AUC: 0.8761\n"
          ]
        },
        {
          "output_type": "display_data",
          "data": {
            "text/plain": [
              "<Figure size 640x480 with 1 Axes>"
            ],
            "image/png": "[encoded data removed]"
          },
          "metadata": {}
        }
      ]
    },
    {
      "cell_type": "code",
      "source": [
        "# Classification Report on Test\n",
        "y_test_pred = best_knn.predict(X_test_scaled)\n",
        "test_accuracy = accuracy_score(y_test, y_test_pred)\n",
        "print(f\"\\nTest Accuracy: {test_accuracy:.4f}\")\n",
        "print(\"\\nClassification Report:\")\n",
        "print(classification_report(y_test, y_test_pred, target_names=best_knn.classes_))\n"
      ],
      "metadata": {
        "colab": {
          "base_uri": "https://localhost:8080/"
        },
        "id": "Y_dnN_Uko8oZ",
        "outputId": "7d0984c3-74ee-4d7e-dc3a-417f3e0e0893"
      },
      "execution_count": null,
      "outputs": [
        {
          "output_type": "stream",
          "name": "stdout",
          "text": [
            "\n",
            "Test Accuracy: 0.7762\n",
            "\n",
            "Classification Report:\n",
            "              precision    recall  f1-score   support\n",
            "\n",
            "       CORAL       0.77      0.79      0.78       858\n",
            "    CORAL_BL       0.78      0.76      0.77       858\n",
            "\n",
            "    accuracy                           0.78      1716\n",
            "   macro avg       0.78      0.78      0.78      1716\n",
            "weighted avg       0.78      0.78      0.78      1716\n",
            "\n"
          ]
        }
      ]
    },
    {
      "cell_type": "code",
      "source": [
        "# Confusion Matrix\n",
        "import seaborn as sns\n",
        "from sklearn.metrics import confusion_matrix\n",
        "\n",
        "confusion_matrix = confusion_matrix(y_test, y_pred)\n",
        "sns.heatmap(confusion_matrix, annot=True, fmt='d', cmap='viridis', xticklabels=best_rf_model.classes_, yticklabels=best_rf_model.classes_)\n",
        "plt.xlabel('Predicted')\n",
        "plt.ylabel('True')"
      ],
      "metadata": {
        "colab": {
          "base_uri": "https://localhost:8080/",
          "height": 466
        },
        "id": "llOtbruWpElw",
        "outputId": "0d34618a-50ed-4a51-c2d9-5ec1753175f8"
      },
      "execution_count": null,
      "outputs": [
        {
          "output_type": "execute_result",
          "data": {
            "text/plain": [
              "Text(50.722222222222214, 0.5, 'True')"
            ]
          },
          "metadata": {},
          "execution_count": 32
        },
        {
          "output_type": "display_data",
          "data": {
            "text/plain": [
              "<Figure size 640x480 with 2 Axes>"
            ],
            "image/png": "[encoded data removed]"
          },
          "metadata": {}
        }
      ]
    },
    {
      "cell_type": "markdown",
      "source": [
        "# LOG REGRESSION 5 COLORS"
      ],
      "metadata": {
        "id": "-bmQGqdEqIPX"
      }
    },
    {
      "cell_type": "code",
      "source": [
        "from sklearn.linear_model import LogisticRegression\n",
        "from sklearn.metrics import classification_report, confusion_matrix, accuracy_score, roc_curve, auc\n",
        "\n",
        "# Logistic Regression with Grid Search\n",
        "param_grid = {\n",
        "    'C': [0.1],\n",
        "    'penalty': ['l2'],  # 'l1' can also be used with solver='liblinear'\n",
        "    'solver': ['liblinear']  # supports both l1 and l2\n",
        "}\n",
        "\n",
        "log_reg = LogisticRegression(max_iter=1000, random_state=42)\n",
        "grid_search = GridSearchCV(log_reg, param_grid, cv=3, n_jobs=-1, verbose=2)\n",
        "grid_search.fit(X_train_scaled, y_train)\n",
        "\n",
        "# Best model\n",
        "best_log_reg = grid_search.best_estimator_\n",
        "print(f\"Best Logistic Regression Parameters: {grid_search.best_params_}\")\n",
        "\n",
        "\n",
        "\n"
      ],
      "metadata": {
        "colab": {
          "base_uri": "https://localhost:8080/"
        },
        "id": "NnMWeW9dqKSr",
        "outputId": "8f969841-a795-48e9-d90e-6de52f36860a"
      },
      "execution_count": null,
      "outputs": [
        {
          "output_type": "stream",
          "name": "stdout",
          "text": [
            "Fitting 3 folds for each of 1 candidates, totalling 3 fits\n",
            "Best Logistic Regression Parameters: {'C': 0.1, 'penalty': 'l2', 'solver': 'liblinear'}\n"
          ]
        }
      ]
    },
    {
      "cell_type": "code",
      "source": [
        "# Validation Accuracy\n",
        "val_score = best_log_reg.score(X_val_scaled, y_val)\n",
        "print(f\"Validation Accuracy: {val_score:.4f}\")\n",
        "\n"
      ],
      "metadata": {
        "colab": {
          "base_uri": "https://localhost:8080/"
        },
        "id": "aC1yZQB9rEeZ",
        "outputId": "9e8dc1e6-fa7b-476f-b27c-a437a8ff1f60"
      },
      "execution_count": null,
      "outputs": [
        {
          "output_type": "stream",
          "name": "stdout",
          "text": [
            "Validation Accuracy: 0.7995\n"
          ]
        }
      ]
    },
    {
      "cell_type": "code",
      "source": [
        "# Print AUC graph\n",
        "pred_proba = best_log_reg.predict_proba(X_val_scaled)[:, 1]\n",
        "fpr, tpr, _ = metrics.roc_curve(y_val, pred_proba, pos_label=\"CORAL_BL\")\n",
        "print(f\"AUC: {metrics.auc(fpr, tpr):.4f}\")\n",
        "\n",
        "plt.figure()\n",
        "plt.plot(fpr, tpr, label='Log Reg ROC')\n",
        "plt.plot([0, 1], [0, 1], 'k--')\n",
        "plt.xlabel('False Positive Rate')\n",
        "plt.ylabel('True Positive Rate')\n",
        "plt.title('ROC Curve - Log Reg')\n",
        "plt.legend()\n",
        "plt.show()\n",
        "\n"
      ],
      "metadata": {
        "colab": {
          "base_uri": "https://localhost:8080/",
          "height": 489
        },
        "id": "adeXUuknrHjE",
        "outputId": "68f7b5bd-86b9-4da2-bb6c-bd8a9333caa6"
      },
      "execution_count": null,
      "outputs": [
        {
          "output_type": "stream",
          "name": "stdout",
          "text": [
            "AUC: 0.8708\n"
          ]
        },
        {
          "output_type": "display_data",
          "data": {
            "text/plain": [
              "<Figure size 640x480 with 1 Axes>"
            ],
            "image/png": "[encoded data removed]"
          },
          "metadata": {}
        }
      ]
    },
    {
      "cell_type": "code",
      "source": [
        "# Test Set Evaluation\n",
        "y_test_pred = best_log_reg.predict(X_test_scaled)\n",
        "test_accuracy = accuracy_score(y_test, y_test_pred)\n",
        "print(f\"\\nTest Accuracy: {test_accuracy:.4f}\")\n",
        "print(\"\\nClassification Report (Test Set):\")\n",
        "print(classification_report(y_test, y_test_pred, target_names=best_log_reg.classes_))\n"
      ],
      "metadata": {
        "colab": {
          "base_uri": "https://localhost:8080/"
        },
        "id": "11_1RSqVrKMv",
        "outputId": "ea091c2c-f1d7-4c50-e2c0-408f09c51b02"
      },
      "execution_count": null,
      "outputs": [
        {
          "output_type": "stream",
          "name": "stdout",
          "text": [
            "\n",
            "Test Accuracy: 0.7885\n",
            "\n",
            "Classification Report (Test Set):\n",
            "              precision    recall  f1-score   support\n",
            "\n",
            "       CORAL       0.78      0.81      0.79       858\n",
            "    CORAL_BL       0.80      0.76      0.78       858\n",
            "\n",
            "    accuracy                           0.79      1716\n",
            "   macro avg       0.79      0.79      0.79      1716\n",
            "weighted avg       0.79      0.79      0.79      1716\n",
            "\n"
          ]
        }
      ]
    },
    {
      "cell_type": "code",
      "source": [
        "# Confusion Matrix\n",
        "conf_mat = confusion_matrix(y_test, y_test_pred)\n",
        "sns.heatmap(conf_mat, annot=True, fmt='d', cmap='viridis',\n",
        "            xticklabels=best_log_reg.classes_, yticklabels=best_log_reg.classes_)\n",
        "plt.xlabel('Predicted')\n",
        "plt.ylabel('True')\n",
        "plt.title('Confusion Matrix - Logistic Regression')\n",
        "plt.show()"
      ],
      "metadata": {
        "colab": {
          "base_uri": "https://localhost:8080/",
          "height": 472
        },
        "id": "To5RlUmcrLRS",
        "outputId": "74f46019-a1f3-4b22-9edb-0c43d60a8183"
      },
      "execution_count": null,
      "outputs": [
        {
          "output_type": "display_data",
          "data": {
            "text/plain": [
              "<Figure size 640x480 with 2 Axes>"
            ],
            "image/png": "[encoded data removed]"
          },
          "metadata": {}
        }
      ]
    },
    {
      "cell_type": "markdown",
      "source": [
        "# XGB"
      ],
      "metadata": {
        "id": "KJ63naVApgi4"
      }
    },
    {
      "cell_type": "code",
      "source": [
        "from xgboost import XGBClassifier\n",
        "from sklearn.model_selection import GridSearchCV\n",
        "\n",
        "xgb_model = XGBClassifier(random_state=42, use_label_encoder=True, eval_metric='logloss')\n",
        "\n",
        "from sklearn.preprocessing import LabelEncoder\n",
        "\n",
        "# Encode labels to 0/1\n",
        "label_encoder = LabelEncoder()\n",
        "y_train_encoded = label_encoder.fit_transform(y_train)\n",
        "y_val_encoded = label_encoder.transform(y_val)\n",
        "y_test_encoded = label_encoder.transform(y_test)\n",
        "\n",
        "\n",
        "# Parameters for grid search\n",
        "param_grid = {\n",
        "    'n_estimators': [50, 100, 200],\n",
        "    'max_depth': [3, 5, 7],\n",
        "    'learning_rate': [0.01, 0.1, 0.2],\n",
        "    'subsample': [0.8, 1.0]\n",
        "}\n",
        "\n",
        "# Build xgb model\n",
        "grid_search = GridSearchCV(xgb_model, param_grid, cv=3, n_jobs=-1, verbose=2)\n",
        "grid_search.fit(X_train_scaled, y_train_encoded)\n",
        "\n",
        "# Pick the best model\n",
        "best_xgb = grid_search.best_estimator_\n",
        "print(f\"Best Parameters: {grid_search.best_params_}\")\n",
        "print(\"Validation Accuracy:\", best_xgb.score(X_val_scaled, y_val_encoded))\n"
      ],
      "metadata": {
        "colab": {
          "base_uri": "https://localhost:8080/"
        },
        "id": "LsJkK39Z4j7U",
        "outputId": "57a29c23-eba4-4258-e582-7ab73c94a9c0"
      },
      "execution_count": 8,
      "outputs": [
        {
          "output_type": "stream",
          "name": "stdout",
          "text": [
            "Fitting 3 folds for each of 54 candidates, totalling 162 fits\n",
            "Best Parameters: {'learning_rate': 0.1, 'max_depth': 5, 'n_estimators': 100, 'subsample': 0.8}\n",
            "Validation Accuracy: 0.8228438228438228\n"
          ]
        },
        {
          "output_type": "stream",
          "name": "stderr",
          "text": [
            "/usr/local/lib/python3.11/dist-packages/xgboost/core.py:158: UserWarning: [17:46:21] WARNING: /workspace/src/learner.cc:740: \n",
            "Parameters: { \"use_label_encoder\" } are not used.\n",
            "\n",
            "  warnings.warn(smsg, UserWarning)\n"
          ]
        }
      ]
    },
    {
      "cell_type": "code",
      "source": [
        "import numpy as np\n",
        "from sklearn import metrics\n",
        "import matplotlib.pylab as plt\n",
        "from sklearn.metrics import classification_report, confusion_matrix, accuracy_score, roc_curve, auc\n",
        "\n",
        "# Print AUC\n",
        "pred_proba = best_xgb.predict_proba(X_val_scaled)[:, 1]\n",
        "fpr, tpr, _ = metrics.roc_curve(y_val, pred_proba, pos_label=\"CORAL_BL\")\n",
        "print(f\"AUC: {metrics.auc(fpr, tpr):.4f}\")\n",
        "\n",
        "plt.figure()\n",
        "plt.plot(fpr, tpr, label='XG Boost ROC')\n",
        "plt.plot([0, 1], [0, 1], 'k--')\n",
        "plt.xlabel('False Positive Rate')\n",
        "plt.ylabel('True Positive Rate')\n",
        "plt.title('ROC Curve - XG Boost')\n",
        "plt.legend()\n",
        "plt.show()\n",
        "\n"
      ],
      "metadata": {
        "colab": {
          "base_uri": "https://localhost:8080/",
          "height": 489
        },
        "id": "0WxuoCHMogtn",
        "outputId": "0c1de455-a541-4968-8026-68c283cdd1ec"
      },
      "execution_count": 25,
      "outputs": [
        {
          "output_type": "stream",
          "name": "stdout",
          "text": [
            "AUC: 0.9000\n"
          ]
        },
        {
          "output_type": "display_data",
          "data": {
            "text/plain": [
              "<Figure size 640x480 with 1 Axes>"
            ],
            "image/png": "[encoded data removed]"
          },
          "metadata": {}
        }
      ]
    },
    {
      "cell_type": "code",
      "source": [
        "from sklearn.metrics import accuracy_score, classification_report\n",
        "from sklearn.preprocessing import LabelEncoder\n",
        "\n",
        "# Encode y_train and y_test with the same LabelEncoder\n",
        "le = LabelEncoder()\n",
        "y_train_encoded = le.fit_transform(y_train)\n",
        "y_test_encoded = le.transform(y_test)\n",
        "\n",
        "# Predict on the scaled test set\n",
        "y_test_pred_encoded = best_xgb.predict(X_test_scaled)\n",
        "\n",
        "# Decode predictions back to original labels\n",
        "y_test_pred_labels = le.inverse_transform(y_test_pred_encoded)\n",
        "\n",
        "# Evaluation using string labels\n",
        "test_accuracy = accuracy_score(y_test, y_test_pred_labels)\n",
        "print(f\"\\nTest Accuracy: {test_accuracy:.4f}\")\n",
        "print(\"\\nClassification Report (Test Set):\")\n",
        "print(classification_report(y_test, y_test_pred_labels, target_names=le.classes_))\n"
      ],
      "metadata": {
        "colab": {
          "base_uri": "https://localhost:8080/"
        },
        "id": "zaZZ_C7uohGC",
        "outputId": "8a3d3dd7-fe64-46f6-cab7-96cf9c731812"
      },
      "execution_count": 24,
      "outputs": [
        {
          "output_type": "stream",
          "name": "stdout",
          "text": [
            "\n",
            "Test Accuracy: 0.7972\n",
            "\n",
            "Classification Report (Test Set):\n",
            "              precision    recall  f1-score   support\n",
            "\n",
            "       CORAL       0.79      0.81      0.80       858\n",
            "    CORAL_BL       0.80      0.79      0.80       858\n",
            "\n",
            "    accuracy                           0.80      1716\n",
            "   macro avg       0.80      0.80      0.80      1716\n",
            "weighted avg       0.80      0.80      0.80      1716\n",
            "\n"
          ]
        }
      ]
    },
    {
      "cell_type": "code",
      "source": [
        "import seaborn as sns\n",
        "from sklearn.metrics import confusion_matrix\n",
        "\n",
        "# Confusion Matrix\n",
        "conf_mat = confusion_matrix(y_test, y_test_pred_labels)\n",
        "sns.heatmap(conf_mat, annot=True, fmt='d', cmap='viridis',\n",
        "            xticklabels=best_xgb.classes_, yticklabels=best_xgb.classes_)\n",
        "plt.xlabel('Predicted')\n",
        "plt.ylabel('True')\n",
        "plt.title('Confusion Matrix - XG Boost')\n",
        "plt.show()"
      ],
      "metadata": {
        "colab": {
          "base_uri": "https://localhost:8080/",
          "height": 472
        },
        "id": "JXAg0iKWotK6",
        "outputId": "d101d324-e0fb-496c-8c36-bc1a581782ab"
      },
      "execution_count": 26,
      "outputs": [
        {
          "output_type": "display_data",
          "data": {
            "text/plain": [
              "<Figure size 640x480 with 2 Axes>"
            ],
            "image/png": "[encoded data removed]"
          },
          "metadata": {}
        }
      ]
    }
  ]
}